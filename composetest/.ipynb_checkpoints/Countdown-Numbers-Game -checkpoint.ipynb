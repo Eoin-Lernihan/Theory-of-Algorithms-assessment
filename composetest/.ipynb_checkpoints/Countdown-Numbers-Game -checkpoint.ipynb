{
 "cells": [
  {
   "cell_type": "markdown",
   "metadata": {},
   "source": [
    "<p>Countdown Numbers Game Notebook (40%)\n",
    "<p>Include in your repository a Jupyter notebook called countdown.ipynb that contains\n",
    "the following.\n",
    "<p> • Overview and explanation of the Countdown Numbers Game [3].\n",
    "<p>• Discussion of the complexity of the Countdown Numbers Game [3].\n",
    "<p>• Python function, written in a functional programming style [4] to solve a Count\u0002down Numbers Game. The function should take a list of six numbers and a target\n",
    "number and return a method to calculate the target from the numbers, if it exists.\n",
    "<p>• Explanation of the functional [4] aspects of your code.\n",
    "\n"
   ]
  },
  {
   "cell_type": "markdown",
   "metadata": {},
   "source": [
    "<h2>Countdown</h2>\n",
    "\n",
    "<h4>British game show</h4>\n",
    " It is broadcast on Channel 4 and currently presented by Anne Robinson, assisted by Rachel Riley, with resident lexicographer Susie Dent. It was the first programme to be aired on Channel 4, and 83 series have been broadcast since its debut on 2 November 1982\n",
    "<P>\n",
    "<h4>Numbers round</h4>\n",
    "  The challenge is to use the numbers available and the four standard operations (addition, subtraction, multiplication and division) to hit the target.\n",
    "\n",
    "Start by choosing any six cards. The top row always contains the numbers 25, 50, 75 and 100, and the bottom row contains the numbers 1 to 10. Then gernerate a number between 0-999 and solve\n",
    "   "
   ]
  },
  {
   "cell_type": "code",
   "execution_count": 1,
   "metadata": {},
   "outputs": [],
   "source": [
    "#imports\n",
    "import random\n",
    "import itertools as it\n",
    "import operator"
   ]
  },
  {
   "cell_type": "code",
   "execution_count": 2,
   "metadata": {},
   "outputs": [
    {
     "data": {
      "text/plain": [
       "(1, 2, 3)"
      ]
     },
     "execution_count": 2,
     "metadata": {},
     "output_type": "execute_result"
    }
   ],
   "source": [
    "L = [1, 2, 3]\n",
    "iterator = iter(L)\n",
    "t = tuple(iterator)\n",
    "t"
   ]
  },
  {
   "cell_type": "code",
   "execution_count": 3,
   "metadata": {},
   "outputs": [
    {
     "data": {
      "text/plain": [
       "(1, 2, 3)"
      ]
     },
     "execution_count": 3,
     "metadata": {},
     "output_type": "execute_result"
    }
   ],
   "source": [
    "L = [1, 2, 3]\n",
    "iterator = iter(L)\n",
    "a, b, c = iterator\n",
    "a, b, c"
   ]
  },
  {
   "cell_type": "code",
   "execution_count": 4,
   "metadata": {},
   "outputs": [],
   "source": [
    "m = {'Jan': 1, 'Feb': 2, 'Mar': 3, 'Apr': 4, 'May': 5, 'Jun': 6,\n",
    "      'Jul': 7, 'Aug': 8, 'Sep': 9, 'Oct': 10, 'Nov': 11, 'Dec': 12};\n"
   ]
  },
  {
   "cell_type": "code",
   "execution_count": 5,
   "metadata": {},
   "outputs": [],
   "source": [
    "# creates a new numbers game setup\n",
    "def numberGameGenrator(rndNum=None):\n",
    " \n",
    "  if rndNum is None:\n",
    "        rndNum = random.randrange(0, 5)\n",
    "        largeRnd = random.sample([25, 50, 75, 100], rndNum)\n",
    "        smallRnd = random.sample(list(range(1, 11)) * 2, 6 - rndNum)\n",
    "        playNums = largeRnd + smallRnd \n",
    "        goal = random.randrange(101, 1000)\n",
    "\n",
    "  # Return the game.\n",
    "  return playNums, goal"
   ]
  },
  {
   "cell_type": "code",
   "execution_count": 6,
   "metadata": {},
   "outputs": [
    {
     "data": {
      "text/plain": [
       "([75, 25, 100, 6, 2, 9], 282)"
      ]
     },
     "execution_count": 6,
     "metadata": {},
     "output_type": "execute_result"
    }
   ],
   "source": [
    "playNums, goal = numberGameGenrator()\n",
    "playNums, goal"
   ]
  },
  {
   "cell_type": "code",
   "execution_count": null,
   "metadata": {},
   "outputs": [],
   "source": [
    "if goal > playNums[1]:\n",
    "  print(\"b is greater than a\")"
   ]
  },
  {
   "cell_type": "code",
   "execution_count": 7,
   "metadata": {},
   "outputs": [
    {
     "name": "stdout",
     "output_type": "stream",
     "text": [
      "(75, 25)\n",
      "75 + 25 = 100\n",
      "75 * 25 = 1875\n",
      "75 - 25 = 50\n",
      "75 / 25 = 3\n",
      "\n",
      "(75, 100)\n",
      "75 + 100 = 175\n",
      "75 * 100 = 7500\n",
      "\n",
      "(75, 6)\n",
      "75 + 6 = 81\n",
      "75 * 6 = 450\n",
      "75 - 6 = 69\n",
      "\n",
      "(75, 2)\n",
      "75 + 2 = 77\n",
      "75 * 2 = 150\n",
      "75 - 2 = 73\n",
      "\n",
      "(75, 9)\n",
      "75 + 9 = 84\n",
      "75 * 9 = 675\n",
      "75 - 9 = 66\n",
      "\n",
      "(25, 75)\n",
      "25 + 75 = 100\n",
      "25 * 75 = 1875\n",
      "\n",
      "(25, 100)\n",
      "25 + 100 = 125\n",
      "25 * 100 = 2500\n",
      "\n",
      "(25, 6)\n",
      "25 + 6 = 31\n",
      "25 * 6 = 150\n",
      "25 - 6 = 19\n",
      "\n",
      "(25, 2)\n",
      "25 + 2 = 27\n",
      "25 * 2 = 50\n",
      "25 - 2 = 23\n",
      "\n",
      "(25, 9)\n",
      "25 + 9 = 34\n",
      "25 * 9 = 225\n",
      "25 - 9 = 16\n",
      "\n",
      "(100, 75)\n",
      "100 + 75 = 175\n",
      "100 * 75 = 7500\n",
      "100 - 75 = 25\n",
      "\n",
      "(100, 25)\n",
      "100 + 25 = 125\n",
      "100 * 25 = 2500\n",
      "100 - 25 = 75\n",
      "100 / 25 = 4\n",
      "\n",
      "(100, 6)\n",
      "100 + 6 = 106\n",
      "100 * 6 = 600\n",
      "100 - 6 = 94\n",
      "\n",
      "(100, 2)\n",
      "100 + 2 = 102\n",
      "100 * 2 = 200\n",
      "100 - 2 = 98\n",
      "100 / 2 = 50\n",
      "\n",
      "(100, 9)\n",
      "100 + 9 = 109\n",
      "100 * 9 = 900\n",
      "100 - 9 = 91\n",
      "\n",
      "(6, 75)\n",
      "6 + 75 = 81\n",
      "6 * 75 = 450\n",
      "\n",
      "(6, 25)\n",
      "6 + 25 = 31\n",
      "6 * 25 = 150\n",
      "\n",
      "(6, 100)\n",
      "6 + 100 = 106\n",
      "6 * 100 = 600\n",
      "\n",
      "(6, 2)\n",
      "6 + 2 = 8\n",
      "6 * 2 = 12\n",
      "6 - 2 = 4\n",
      "6 / 2 = 3\n",
      "\n",
      "(6, 9)\n",
      "6 + 9 = 15\n",
      "6 * 9 = 54\n",
      "\n",
      "(2, 75)\n",
      "2 + 75 = 77\n",
      "2 * 75 = 150\n",
      "\n",
      "(2, 25)\n",
      "2 + 25 = 27\n",
      "2 * 25 = 50\n",
      "\n",
      "(2, 100)\n",
      "2 + 100 = 102\n",
      "2 * 100 = 200\n",
      "\n",
      "(2, 6)\n",
      "2 + 6 = 8\n",
      "2 * 6 = 12\n",
      "\n",
      "(2, 9)\n",
      "2 + 9 = 11\n",
      "2 * 9 = 18\n",
      "\n",
      "(9, 75)\n",
      "9 + 75 = 84\n",
      "9 * 75 = 675\n",
      "\n",
      "(9, 25)\n",
      "9 + 25 = 34\n",
      "9 * 25 = 225\n",
      "\n",
      "(9, 100)\n",
      "9 + 100 = 109\n",
      "9 * 100 = 900\n",
      "\n",
      "(9, 6)\n",
      "9 + 6 = 15\n",
      "9 * 6 = 54\n",
      "9 - 6 = 3\n",
      "\n",
      "(9, 2)\n",
      "9 + 2 = 11\n",
      "9 * 2 = 18\n",
      "9 - 2 = 7\n",
      "\n"
     ]
    }
   ],
   "source": [
    "for p in it.permutations(playNums, 2):\n",
    "        print(p)\n",
    "        print(f'{p[0]} + {p[1]} = {p[0]+p[1]}')\n",
    "        print(f'{p[0]} * {p[1]} = {p[0]*p[1]}')\n",
    "        if p[0] - p[1] > 0:\n",
    "            print(f'{p[0]} - {p[1]} = {p[0]-p[1]}')\n",
    "        if p[0] % p[1] == 0:\n",
    "            print(f'{p[0]} / {p[1]} = {p[0]//p[1]}')\n",
    "        print()"
   ]
  },
  {
   "cell_type": "code",
   "execution_count": null,
   "metadata": {},
   "outputs": [],
   "source": []
  },
  {
   "cell_type": "code",
   "execution_count": null,
   "metadata": {},
   "outputs": [],
   "source": []
  },
  {
   "cell_type": "markdown",
   "metadata": {},
   "source": [
    "\n",
    "\n"
   ]
  }
 ],
 "metadata": {
  "kernelspec": {
   "display_name": "Python 3",
   "language": "python",
   "name": "python3"
  },
  "language_info": {
   "codemirror_mode": {
    "name": "ipython",
    "version": 3
   },
   "file_extension": ".py",
   "mimetype": "text/x-python",
   "name": "python",
   "nbconvert_exporter": "python",
   "pygments_lexer": "ipython3",
   "version": "3.8.5"
  }
 },
 "nbformat": 4,
 "nbformat_minor": 5
}
