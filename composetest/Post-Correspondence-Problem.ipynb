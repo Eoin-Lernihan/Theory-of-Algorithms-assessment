{
 "cells": [
  {
   "cell_type": "markdown",
   "metadata": {},
   "source": [
    "<p>Post Correspondence Problem Notebook (40%)\n",
    "<p>Include in your repository a Jupyter notebook called post-correspondence.ipynb that\n",
    "contains the following.\n",
    "<p>• Definition and explanation of the Post Correspondence Problem.\n",
    "<p>• Definition and explanation of the Bounded Post Correspondence Problem.\n",
    "<p>• Python function to solve the Bounded Post Correspondence Problem. The function\n",
    "should take two lists of strings and return True if they correspond, False otherwise.\n",
    "<p>• Explanation of what an undecidable problem is in computability theory, with ref\u0002erence to the Post Correspondence Problem.\n",
    "\n"
   ]
  },
  {
   "cell_type": "markdown",
   "metadata": {},
   "source": [
    "<h1>The Post Correspondence Problem</h1>\n",
    "<h2>OVERVIEW</h2>\n",
    "The Post Correspondence Problem(PCP) is a popular undecidable decision problem, introduced by Emil Post in 1946. It is a classical decision problem about equalisers of free monoid homomorphisms[1]. It is often used in proofs of undecidability. \n",
    "\n",
    "<h3>Defition</h3>\n",
    "Given two list of words, with the number of elements in each list the same, then problem is solved if there exists an ordered set of indexes (of the list) such that the combination of the words of list 1 (as per the set of indexes) is equal the combination of the words of list 2 (for the same order set of indexes). For example : \n",
    "list1 = ('a', 'ab', 'bba')\n",
    "list2 = ('baa', 'aa', 'bb')\n",
    "The order set of indexes is [2, 1, 2, 0] because \"bbaabbbaa\"  = \"bbaabbbaa\"\n",
    "\n",
    "<h3>Variation</h3> \n",
    "Thier are a few differnet varitaion of this problem for examaple unbounded PCP, bounded PCP, modified PCP\n",
    "Unbounded PCP = So the problem can use any number of indexes(even repeating. this can go on for infinitity  \n",
    "Bounded PCP = So the problem in tried to be solved used a upper limit of indexes. The means that when we have tried the upper limit of indexes then the probldem is cannot be solved. The is a finite number of possible solution which we can try to see if they solve the probelm \n",
    "\n",
    "<h2>Undecidable problem </h2>\n",
    "\"An undecidable problem is one that should give a \"yes\" or \"no\" answer, but yet no algorithm exists that can answer correctly on all inputs.\"[2]\n",
    "The PCP is a a promblem that can give you yes or no or go on for infinity which means no anwser, of yes or no"
   ]
  },
  {
   "cell_type": "code",
   "execution_count": 244,
   "metadata": {},
   "outputs": [],
   "source": [
    "#imports\n",
    "import itertools as it\n",
    "import random"
   ]
  },
  {
   "cell_type": "code",
   "execution_count": 263,
   "metadata": {},
   "outputs": [],
   "source": [
    "#A Function to see if 2 list correspond \n",
    "def boundPCPSolve(list1, list2):\n",
    "    #Assume that it dosn't find solution\n",
    "    solutionFound = False\n",
    "    #Checks to see if both list are of the same length\n",
    "    if(len(list1) == len(list2)):\n",
    "        #Caluculates all the possible numbers in the list\n",
    "        counter = it.count()\n",
    "        possibleNumberList= list(next(counter) for _ in range(len(list2)))\n",
    "        #Caluculates the possible paths that it can loop around\n",
    "        interationLegnth = 2 * len(list2)\n",
    "        possiblePaths = list(it.product(possibleNumberList, repeat=interationLegnth))\n",
    "        #Loops around the possible paths for all possible paths\n",
    "        for p in possiblePaths:\n",
    "            list1Str = ''\n",
    "            list2Str = ''\n",
    "            solutionIndex = []\n",
    "            #loops around the path for each index\n",
    "            for index in p:\n",
    "                list1Str = list1Str + list1[index]\n",
    "                list2Str = list2Str + list2[index]\n",
    "                solutionIndex.append(index)\n",
    "                #If the 2 strings are the same, meaning the list correspond has been found\n",
    "                if(list1Str == list2Str):\n",
    "                    print('found', list1Str, 'in', solutionIndex)\n",
    "                    solutionFound = True\n",
    "                    break\n",
    "            #break out of loop if solutionFound = true\n",
    "            if(solutionFound):\n",
    "                break\n",
    "    return solutionFound"
   ]
  },
  {
   "cell_type": "code",
   "execution_count": 266,
   "metadata": {
    "scrolled": true
   },
   "outputs": [
    {
     "name": "stdout",
     "output_type": "stream",
     "text": [
      "found bbaabbbaa in [2, 1, 2, 0]\n"
     ]
    },
    {
     "data": {
      "text/plain": [
       "True"
      ]
     },
     "execution_count": 266,
     "metadata": {},
     "output_type": "execute_result"
    }
   ],
   "source": [
    "#test1, pass\n",
    "#creates a 2 small list\n",
    "list1 = ('a', 'ab', 'bba')\n",
    "list2 = ('baa', 'aa', 'bb')\n",
    "boundPCPSolve(list1, list2)"
   ]
  },
  {
   "cell_type": "code",
   "execution_count": 267,
   "metadata": {},
   "outputs": [
    {
     "data": {
      "text/plain": [
       "False"
      ]
     },
     "execution_count": 267,
     "metadata": {},
     "output_type": "execute_result"
    }
   ],
   "source": [
    "#test2, fail\n",
    "list1 = ('aa', 'baa')\n",
    "list2 = ('baa', 'aa')\n",
    "boundPCPSolve(list1, list2)"
   ]
  },
  {
   "cell_type": "code",
   "execution_count": 268,
   "metadata": {},
   "outputs": [
    {
     "name": "stdout",
     "output_type": "stream",
     "text": [
      "found baa in [0]\n"
     ]
    },
    {
     "data": {
      "text/plain": [
       "True"
      ]
     },
     "execution_count": 268,
     "metadata": {},
     "output_type": "execute_result"
    }
   ],
   "source": [
    "#test3, pass\n",
    "list1 = ('baa', 'aa')\n",
    "list2 = ('baa', 'aa')\n",
    "boundPCPSolve(list1, list2)"
   ]
  },
  {
   "cell_type": "code",
   "execution_count": 270,
   "metadata": {},
   "outputs": [
    {
     "data": {
      "text/plain": [
       "False"
      ]
     },
     "execution_count": 270,
     "metadata": {},
     "output_type": "execute_result"
    }
   ],
   "source": [
    "#test4, fail\n",
    "list1 = ('baa', 'aa',)\n",
    "list2 = ('baa', 'aa', 'c')\n",
    "boundPCPSolve(list1, list2)"
   ]
  },
  {
   "cell_type": "code",
   "execution_count": 276,
   "metadata": {},
   "outputs": [
    {
     "data": {
      "text/plain": [
       "False"
      ]
     },
     "execution_count": 276,
     "metadata": {},
     "output_type": "execute_result"
    }
   ],
   "source": [
    "#test5, fail\n",
    "list1 = ('ab', 'ba', 'bc')\n",
    "list2 = ('baa', 'aa', 'c')\n",
    "boundPCPSolve(list1, list2)"
   ]
  },
  {
   "cell_type": "markdown",
   "metadata": {},
   "source": [
    "[1]https://www.britannica.com/science/homomorphism \n",
    "\n",
    "[2]https://www.khanacademy.org/computing/ap-computer-science-principles/algorithms-101/solving-hard-problems/a/undecidable-problems\n",
    "\n",
    "https://courses.engr.illinois.edu/cs373/sp2009/lectures/lect_26.pdf\n",
    "\n",
    "https://www.geeksforgeeks.org/post-correspondence-problem/#:~:text=Post%20Correspondence%20Problem%20is%20a,as%20string%20made%20by%20Denominators.\n",
    "\n",
    "https://www.youtube.com/watch?v=VZNN1OGoqr8\n",
    "\n",
    "https://arxiv.org/abs/2104.05772"
   ]
  },
  {
   "cell_type": "code",
   "execution_count": null,
   "metadata": {},
   "outputs": [],
   "source": []
  }
 ],
 "metadata": {
  "kernelspec": {
   "display_name": "Python 3",
   "language": "python",
   "name": "python3"
  },
  "language_info": {
   "codemirror_mode": {
    "name": "ipython",
    "version": 3
   },
   "file_extension": ".py",
   "mimetype": "text/x-python",
   "name": "python",
   "nbconvert_exporter": "python",
   "pygments_lexer": "ipython3",
   "version": "3.8.5"
  }
 },
 "nbformat": 4,
 "nbformat_minor": 4
}
