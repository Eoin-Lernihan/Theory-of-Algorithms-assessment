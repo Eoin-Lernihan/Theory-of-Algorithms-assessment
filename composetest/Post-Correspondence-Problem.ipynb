{
 "cells": [
  {
   "cell_type": "markdown",
   "metadata": {},
   "source": [
    "<p>Post Correspondence Problem Notebook (40%)\n",
    "<p>Include in your repository a Jupyter notebook called post-correspondence.ipynb that\n",
    "contains the following.\n",
    "<p>• Definition and explanation of the Post Correspondence Problem.\n",
    "<p>• Definition and explanation of the Bounded Post Correspondence Problem.\n",
    "<p>• Python function to solve the Bounded Post Correspondence Problem. The function\n",
    "should take two lists of strings and return True if they correspond, False otherwise.\n",
    "<p>• Explanation of what an undecidable problem is in computability theory, with ref\u0002erence to the Post Correspondence Problem.\n",
    "\n"
   ]
  },
  {
   "cell_type": "markdown",
   "metadata": {},
   "source": [
    "OVERVIEW\n",
    "\n",
    "The Post Correspondence Problem is a popular undecidable decision problem, introduced by Emil Post in 1946. It is a classical decision problem about equalisers of free monoid homomorphisms. Being a problem, simpler than the Halting Problem, it is often used in proofs of undecidability. \n",
    "\n",
    "We prove connections between several variations of this classical problem, but in the setting of free groups and free group homomorphisms. For expamle\n",
    "\n",
    "Variation \n",
    "PCP, Bounded PCP, Modified Post Correspondence Problem (MPCP)\n",
    "\n",
    "Lemma 1.1 Given a string hM, wi, the algorithm AlgTM2MP CP computes a set of tiles\n",
    "T that is an instance of MPCP. Furthermore, T contains a match if and only if M accepts w\n",
    "\n",
    "Theorem 1.2 The MPCP problem is undecidable.\n",
    "\n",
    "\n",
    "Among other results, and working under certain injectivity assumptions, we prove that computing the rank of the equaliser of a pair of free group homomorphisms can be applied to computing a basis of this equaliser, and also to solve the \"generalised\" Post Correspondence Problem for free groups.\n",
    "Example\n",
    "Approaches to sloving them are\n"
   ]
  },
  {
   "cell_type": "code",
   "execution_count": 46,
   "metadata": {},
   "outputs": [],
   "source": [
    "#imports\n",
    "import itertools as it\n",
    "import random"
   ]
  },
  {
   "cell_type": "code",
   "execution_count": 165,
   "metadata": {},
   "outputs": [],
   "source": [
    "list1 = ('aa', 'aba')\n",
    "list2 = ('baa', 'aa')\n",
    "interationLegnth = 3"
   ]
  },
  {
   "cell_type": "code",
   "execution_count": 242,
   "metadata": {},
   "outputs": [],
   "source": [
    "def boundPCPSolve(list1, list2, interationLegnth):\n",
    "    solutionFound = False\n",
    "    #print(len(list1))\n",
    "    #print(len(list2))\n",
    "    firstSolution = ''\n",
    "    if(len(list1) == len(list2)):\n",
    "       #print('checker')\n",
    "        counter = it.count()\n",
    "        possibleNumberList= list(next(counter) for _ in range(len(list2)))\n",
    "        #print(possibleNumberList)\n",
    "       # [p for p in itertools.product(x, repeat=interationLegnth)]\n",
    "        possiblePaths = list(it.product(possibleNumberList, repeat=interationLegnth))\n",
    "        #print(possiblePaths)\n",
    "        for p in possiblePaths:\n",
    "            list1Str = ''\n",
    "            list2Str = ''\n",
    "            solutionIndex = []\n",
    "            #print(p)\n",
    "            for index in p:\n",
    "                list1Str = list1Str + list1[index]\n",
    "                list2Str = list2Str + list2[index]\n",
    "                solutionIndex.append(index)\n",
    "                #print(' , ')\n",
    "                #print(list1Str)\n",
    "                #print(list2Str)\n",
    "                if(list1Str == list2Str):\n",
    "                    #if found after 3\n",
    "                    print('found', list1Str, 'in', solutionIndex)\n",
    "                    firstSolution = list2Str\n",
    "                    solutionFound = True\n",
    "                    break\n",
    "            if(solutionFound):\n",
    "                break\n",
    "    #Get all the possible permitions\n",
    "    #Go thourgh each permition\n",
    "    #does it solve it? if not start again\n",
    "    return solutionFound"
   ]
  },
  {
   "cell_type": "code",
   "execution_count": 243,
   "metadata": {},
   "outputs": [
    {
     "name": "stdout",
     "output_type": "stream",
     "text": [
      "found bbaabbbaa in [2, 1, 2, 0]\n"
     ]
    },
    {
     "data": {
      "text/plain": [
       "True"
      ]
     },
     "execution_count": 243,
     "metadata": {},
     "output_type": "execute_result"
    }
   ],
   "source": [
    "#test3\n",
    "list1 = ('a', 'ab', 'bba')\n",
    "list2 = ('baa', 'aa', 'bb')#b, a, a), (a, a), (b, b\n",
    "interationLegnth = 6\n",
    "boundPCPSolve(list1, list2, interationLegnth)"
   ]
  },
  {
   "cell_type": "code",
   "execution_count": 220,
   "metadata": {},
   "outputs": [
    {
     "data": {
      "text/plain": [
       "[('a', 'b', 'c'),\n",
       " ('a', 'c', 'b'),\n",
       " ('b', 'a', 'c'),\n",
       " ('b', 'c', 'a'),\n",
       " ('c', 'a', 'b'),\n",
       " ('c', 'b', 'a')]"
      ]
     },
     "execution_count": 220,
     "metadata": {},
     "output_type": "execute_result"
    }
   ],
   "source": [
    "list(it.permutations(['a', 'b', 'c']))"
   ]
  },
  {
   "cell_type": "code",
   "execution_count": 212,
   "metadata": {},
   "outputs": [
    {
     "data": {
      "text/plain": [
       "[0, 1, 2, 3, 4]"
      ]
     },
     "execution_count": 212,
     "metadata": {},
     "output_type": "execute_result"
    }
   ],
   "source": [
    "counter = it.count()\n",
    "list(next(counter) for _ in range(5))"
   ]
  },
  {
   "cell_type": "code",
   "execution_count": 207,
   "metadata": {},
   "outputs": [
    {
     "name": "stdout",
     "output_type": "stream",
     "text": [
      "\n"
     ]
    },
    {
     "data": {
      "text/plain": [
       "False"
      ]
     },
     "execution_count": 207,
     "metadata": {},
     "output_type": "execute_result"
    }
   ],
   "source": [
    "boundPCPSolve(list1, list2, 6)"
   ]
  },
  {
   "cell_type": "code",
   "execution_count": 208,
   "metadata": {},
   "outputs": [
    {
     "name": "stdout",
     "output_type": "stream",
     "text": [
      "\n"
     ]
    },
    {
     "data": {
      "text/plain": [
       "False"
      ]
     },
     "execution_count": 208,
     "metadata": {},
     "output_type": "execute_result"
    }
   ],
   "source": [
    "#test2\n",
    "list1 = ('aa', 'baa')\n",
    "list2 = ('baa', 'aa')\n",
    "interationLegnth = 3\n",
    "boundPCPSolve(list1, list2, interationLegnth)"
   ]
  },
  {
   "cell_type": "code",
   "execution_count": null,
   "metadata": {},
   "outputs": [],
   "source": []
  },
  {
   "cell_type": "code",
   "execution_count": null,
   "metadata": {},
   "outputs": [],
   "source": []
  },
  {
   "cell_type": "code",
   "execution_count": 20,
   "metadata": {},
   "outputs": [
    {
     "data": {
      "text/plain": [
       "[-18, -16, -14, -12, -10, -8, -6, -4, -2, 0, 2, 4, 6, 8, 10, 12, 14, 16, 18]"
      ]
     },
     "execution_count": 20,
     "metadata": {},
     "output_type": "execute_result"
    }
   ],
   "source": [
    "def double(i):\n",
    "    return 2 * i\n",
    "eg_list_of_inputs = [-9, -8, -7, -6, -5, -4, -3, -2, -1, 0, 1, 2, 3, 4, 5, 6, 7, 8, 9]\n",
    "eg_list_of_outputs = list(map(double, eg_list_of_inputs))\n",
    "eg_list_of_outputs"
   ]
  },
  {
   "cell_type": "code",
   "execution_count": 21,
   "metadata": {},
   "outputs": [
    {
     "name": "stdout",
     "output_type": "stream",
     "text": [
      " -9 ->  -18\n",
      " -8 ->  -16\n",
      " -7 ->  -14\n",
      " -6 ->  -12\n",
      " -5 ->  -10\n",
      " -4 ->   -8\n",
      " -3 ->   -6\n",
      " -2 ->   -4\n",
      " -1 ->   -2\n",
      "  0 ->    0\n",
      "  1 ->    2\n",
      "  2 ->    4\n",
      "  3 ->    6\n",
      "  4 ->    8\n",
      "  5 ->   10\n",
      "  6 ->   12\n",
      "  7 ->   14\n",
      "  8 ->   16\n",
      "  9 ->   18\n"
     ]
    }
   ],
   "source": [
    "for i in range(-9, 10):\n",
    "    print(f'{i:3} ->  {double(i):3}')"
   ]
  },
  {
   "cell_type": "code",
   "execution_count": 22,
   "metadata": {},
   "outputs": [
    {
     "name": "stdout",
     "output_type": "stream",
     "text": [
      " 0 -> 0.06608109963746100490...\n",
      " 1 -> 0.85731590214350494872...\n",
      " 2 -> 0.56882571880760146588...\n",
      " 3 -> 0.46881182505032337193...\n",
      " 4 -> 0.43886257953437479706...\n",
      " 5 -> 0.63874629201051769112...\n",
      " 6 -> 0.39250936685256221370...\n",
      " 7 -> 0.81035313117853713383...\n",
      " 8 -> 0.97272851387584491345...\n",
      " 9 -> 0.70409890500575988970...\n",
      "and so on\n"
     ]
    }
   ],
   "source": [
    "for n in range(10):\n",
    "    print(f'{n:2} -> {random.random():0.20f}...')\n",
    "print('and so on')"
   ]
  },
  {
   "cell_type": "code",
   "execution_count": 23,
   "metadata": {},
   "outputs": [
    {
     "data": {
      "text/plain": [
       "False"
      ]
     },
     "execution_count": 23,
     "metadata": {},
     "output_type": "execute_result"
    }
   ],
   "source": [
    "['a', 'b'] == ['b', 'a']"
   ]
  },
  {
   "cell_type": "code",
   "execution_count": 24,
   "metadata": {},
   "outputs": [
    {
     "data": {
      "text/plain": [
       "[1, 4, 3]"
      ]
     },
     "execution_count": 24,
     "metadata": {},
     "output_type": "execute_result"
    }
   ],
   "source": [
    "l = [1,2,3]\n",
    "l[1] = 4\n",
    "l"
   ]
  },
  {
   "cell_type": "code",
   "execution_count": 25,
   "metadata": {},
   "outputs": [
    {
     "data": {
      "text/plain": [
       "529344067295497451"
      ]
     },
     "execution_count": 25,
     "metadata": {},
     "output_type": "execute_result"
    }
   ],
   "source": [
    "t = (1, 2, 3)\n",
    "\n",
    "hash(t)"
   ]
  },
  {
   "cell_type": "code",
   "execution_count": 26,
   "metadata": {},
   "outputs": [
    {
     "data": {
      "text/plain": [
       "3"
      ]
     },
     "execution_count": 26,
     "metadata": {},
     "output_type": "execute_result"
    }
   ],
   "source": [
    "D = {(1,2,3): 3, (1,2): 2}\n",
    "D[(1,2,3)]"
   ]
  },
  {
   "cell_type": "code",
   "execution_count": 27,
   "metadata": {},
   "outputs": [
    {
     "data": {
      "text/plain": [
       "1"
      ]
     },
     "execution_count": 27,
     "metadata": {},
     "output_type": "execute_result"
    }
   ],
   "source": [
    "a, b = 1, 2\n",
    "a"
   ]
  },
  {
   "cell_type": "code",
   "execution_count": 30,
   "metadata": {},
   "outputs": [
    {
     "data": {
      "text/plain": [
       "(('a',), ('a', 'b'), ('b', 'b', 'a'))"
      ]
     },
     "execution_count": 30,
     "metadata": {},
     "output_type": "execute_result"
    }
   ],
   "source": [
    "a = 'a'\n",
    "b = 'b'\n",
    "L1 = ((a,), (a, b), (b, b, a))\n",
    "L1"
   ]
  },
  {
   "cell_type": "code",
   "execution_count": 31,
   "metadata": {},
   "outputs": [],
   "source": [
    "L2 = ((a, a), (b, b))\n"
   ]
  },
  {
   "cell_type": "code",
   "execution_count": 32,
   "metadata": {},
   "outputs": [],
   "source": [
    "def bpcp_solver(L1, L2, K):\n",
    "    if correspond(L1, L2, K):\n",
    "        return True\n",
    "    else:\n",
    "        return False   \n",
    "def correspond(L1, L2, K):\n",
    "    return True if solution else False"
   ]
  },
  {
   "cell_type": "code",
   "execution_count": 33,
   "metadata": {},
   "outputs": [
    {
     "data": {
      "text/plain": [
       "[('A', 'B', 'C'),\n",
       " ('A', 'C', 'B'),\n",
       " ('B', 'A', 'C'),\n",
       " ('B', 'C', 'A'),\n",
       " ('C', 'A', 'B'),\n",
       " ('C', 'B', 'A')]"
      ]
     },
     "execution_count": 33,
     "metadata": {},
     "output_type": "execute_result"
    }
   ],
   "source": [
    "# Permutations.\n",
    "list(it.permutations('ABC'))"
   ]
  },
  {
   "cell_type": "code",
   "execution_count": 34,
   "metadata": {},
   "outputs": [
    {
     "data": {
      "text/plain": [
       "[(0, 0, 0),\n",
       " (0, 0, 1),\n",
       " (0, 0, 2),\n",
       " (0, 1, 0),\n",
       " (0, 1, 1),\n",
       " (0, 1, 2),\n",
       " (0, 2, 0),\n",
       " (0, 2, 1),\n",
       " (0, 2, 2),\n",
       " (1, 0, 0),\n",
       " (1, 0, 1),\n",
       " (1, 0, 2),\n",
       " (1, 1, 0),\n",
       " (1, 1, 1),\n",
       " (1, 1, 2),\n",
       " (1, 2, 0),\n",
       " (1, 2, 1),\n",
       " (1, 2, 2),\n",
       " (2, 0, 0),\n",
       " (2, 0, 1),\n",
       " (2, 0, 2),\n",
       " (2, 1, 0),\n",
       " (2, 1, 1),\n",
       " (2, 1, 2),\n",
       " (2, 2, 0),\n",
       " (2, 2, 1),\n",
       " (2, 2, 2)]"
      ]
     },
     "execution_count": 34,
     "metadata": {},
     "output_type": "execute_result"
    }
   ],
   "source": [
    "list(it.combinations('ABC', 2))\n",
    "list(it.product('ABCD', 'ABCD'))\n",
    "list(it.product(range(len(L1)), range(len(L1)), range(len(L1))))\n"
   ]
  },
  {
   "cell_type": "code",
   "execution_count": 35,
   "metadata": {},
   "outputs": [
    {
     "name": "stdout",
     "output_type": "stream",
     "text": [
      "(0,)\n",
      "(1,)\n",
      "(2,)\n",
      "(0, 0)\n",
      "(0, 1)\n",
      "(0, 2)\n",
      "(1, 0)\n",
      "(1, 1)\n",
      "(1, 2)\n",
      "(2, 0)\n",
      "(2, 1)\n",
      "(2, 2)\n",
      "(0, 0, 0)\n",
      "(0, 0, 1)\n",
      "(0, 0, 2)\n",
      "(0, 1, 0)\n",
      "(0, 1, 1)\n",
      "(0, 1, 2)\n",
      "(0, 2, 0)\n",
      "(0, 2, 1)\n",
      "(0, 2, 2)\n",
      "(1, 0, 0)\n",
      "(1, 0, 1)\n",
      "(1, 0, 2)\n",
      "(1, 1, 0)\n",
      "(1, 1, 1)\n",
      "(1, 1, 2)\n",
      "(1, 2, 0)\n",
      "(1, 2, 1)\n",
      "(1, 2, 2)\n",
      "(2, 0, 0)\n",
      "(2, 0, 1)\n",
      "(2, 0, 2)\n",
      "(2, 1, 0)\n",
      "(2, 1, 1)\n",
      "(2, 1, 2)\n",
      "(2, 2, 0)\n",
      "(2, 2, 1)\n",
      "(2, 2, 2)\n",
      "(0, 0, 0, 0)\n",
      "(0, 0, 0, 1)\n",
      "(0, 0, 0, 2)\n",
      "(0, 0, 1, 0)\n",
      "(0, 0, 1, 1)\n",
      "(0, 0, 1, 2)\n",
      "(0, 0, 2, 0)\n",
      "(0, 0, 2, 1)\n",
      "(0, 0, 2, 2)\n",
      "(0, 1, 0, 0)\n",
      "(0, 1, 0, 1)\n",
      "(0, 1, 0, 2)\n",
      "(0, 1, 1, 0)\n",
      "(0, 1, 1, 1)\n",
      "(0, 1, 1, 2)\n",
      "(0, 1, 2, 0)\n",
      "(0, 1, 2, 1)\n",
      "(0, 1, 2, 2)\n",
      "(0, 2, 0, 0)\n",
      "(0, 2, 0, 1)\n",
      "(0, 2, 0, 2)\n",
      "(0, 2, 1, 0)\n",
      "(0, 2, 1, 1)\n",
      "(0, 2, 1, 2)\n",
      "(0, 2, 2, 0)\n",
      "(0, 2, 2, 1)\n",
      "(0, 2, 2, 2)\n",
      "(1, 0, 0, 0)\n",
      "(1, 0, 0, 1)\n",
      "(1, 0, 0, 2)\n",
      "(1, 0, 1, 0)\n",
      "(1, 0, 1, 1)\n",
      "(1, 0, 1, 2)\n",
      "(1, 0, 2, 0)\n",
      "(1, 0, 2, 1)\n",
      "(1, 0, 2, 2)\n",
      "(1, 1, 0, 0)\n",
      "(1, 1, 0, 1)\n",
      "(1, 1, 0, 2)\n",
      "(1, 1, 1, 0)\n",
      "(1, 1, 1, 1)\n",
      "(1, 1, 1, 2)\n",
      "(1, 1, 2, 0)\n",
      "(1, 1, 2, 1)\n",
      "(1, 1, 2, 2)\n",
      "(1, 2, 0, 0)\n",
      "(1, 2, 0, 1)\n",
      "(1, 2, 0, 2)\n",
      "(1, 2, 1, 0)\n",
      "(1, 2, 1, 1)\n",
      "(1, 2, 1, 2)\n",
      "(1, 2, 2, 0)\n",
      "(1, 2, 2, 1)\n",
      "(1, 2, 2, 2)\n",
      "(2, 0, 0, 0)\n",
      "(2, 0, 0, 1)\n",
      "(2, 0, 0, 2)\n",
      "(2, 0, 1, 0)\n",
      "(2, 0, 1, 1)\n",
      "(2, 0, 1, 2)\n",
      "(2, 0, 2, 0)\n",
      "(2, 0, 2, 1)\n",
      "(2, 0, 2, 2)\n",
      "(2, 1, 0, 0)\n",
      "(2, 1, 0, 1)\n",
      "(2, 1, 0, 2)\n",
      "(2, 1, 1, 0)\n",
      "(2, 1, 1, 1)\n",
      "(2, 1, 1, 2)\n",
      "(2, 1, 2, 0)\n",
      "(2, 1, 2, 1)\n",
      "(2, 1, 2, 2)\n",
      "(2, 2, 0, 0)\n",
      "(2, 2, 0, 1)\n",
      "(2, 2, 0, 2)\n",
      "(2, 2, 1, 0)\n",
      "(2, 2, 1, 1)\n",
      "(2, 2, 1, 2)\n",
      "(2, 2, 2, 0)\n",
      "(2, 2, 2, 1)\n",
      "(2, 2, 2, 2)\n"
     ]
    }
   ],
   "source": [
    "# The bound for the bounded problem.\n",
    "K = 4\n",
    "\n",
    "# The generators.\n",
    "gens = []\n",
    "\n",
    "# Loop through all possible solutions.\n",
    "for i in range(1, K + 1):\n",
    "    # Create a generator for solutions of length i, append it to gens.\n",
    "    gens.append(it.product(*([range(len(L1))] * i)))\n",
    "\n",
    "# it.chain just chains generators together.\n",
    "for solution in it.chain(*gens):\n",
    "  print(solution)\n"
   ]
  },
  {
   "cell_type": "code",
   "execution_count": 38,
   "metadata": {},
   "outputs": [
    {
     "data": {
      "text/plain": [
       "(('a', 'c'), ('a', 'b'), ('b', 'b', 'a'))"
      ]
     },
     "execution_count": 38,
     "metadata": {},
     "output_type": "execute_result"
    }
   ],
   "source": [
    "a = 'a'\n",
    "b = 'b'\n",
    "c= 'c'\n",
    "L1 = ((a,c), (a, b), (b, b, a))\n",
    "L1"
   ]
  },
  {
   "cell_type": "code",
   "execution_count": 39,
   "metadata": {},
   "outputs": [
    {
     "data": {
      "text/plain": [
       "(('b', 'a', 'a'), ('a', 'a'), ('b', 'b'))"
      ]
     },
     "execution_count": 39,
     "metadata": {},
     "output_type": "execute_result"
    }
   ],
   "source": [
    "L2 = ((b, a, a), (a, a), (b, b))\n",
    "L2"
   ]
  },
  {
   "cell_type": "code",
   "execution_count": 41,
   "metadata": {},
   "outputs": [
    {
     "data": {
      "text/plain": [
       "[-18, -16, -14, -12, -10, -8, -6, -4, -2, 0, 2, 4, 6, 8, 10, 12, 14, 16, 18]"
      ]
     },
     "execution_count": 41,
     "metadata": {},
     "output_type": "execute_result"
    }
   ],
   "source": [
    "def double(i):\n",
    "    return 2 * i\n",
    "eg_list_of_inputs = [-9, -8, -7, -6, -5, -4, -3, -2, -1, 0, 1, 2, 3, 4, 5, 6, 7, 8, 9]\n",
    "eg_list_of_outputs = list(map(double, eg_list_of_inputs))\n",
    "eg_list_of_outputs\n"
   ]
  },
  {
   "cell_type": "code",
   "execution_count": 42,
   "metadata": {},
   "outputs": [
    {
     "name": "stdout",
     "output_type": "stream",
     "text": [
      " -9 ->  -18\n",
      " -8 ->  -16\n",
      " -7 ->  -14\n",
      " -6 ->  -12\n",
      " -5 ->  -10\n",
      " -4 ->   -8\n",
      " -3 ->   -6\n",
      " -2 ->   -4\n",
      " -1 ->   -2\n",
      "  0 ->    0\n",
      "  1 ->    2\n",
      "  2 ->    4\n",
      "  3 ->    6\n",
      "  4 ->    8\n",
      "  5 ->   10\n",
      "  6 ->   12\n",
      "  7 ->   14\n",
      "  8 ->   16\n",
      "  9 ->   18\n"
     ]
    }
   ],
   "source": [
    "for i in range(-9, 10):\n",
    "    print(f'{i:3} ->  {double(i):3}')"
   ]
  },
  {
   "cell_type": "code",
   "execution_count": 43,
   "metadata": {},
   "outputs": [
    {
     "name": "stdout",
     "output_type": "stream",
     "text": [
      " 0 -> 0.40429187006035760543...\n",
      " 1 -> 0.70194119092874729393...\n",
      " 2 -> 0.70313468599494888256...\n",
      " 3 -> 0.21973651960926687821...\n",
      " 4 -> 0.76913512941807404832...\n",
      " 5 -> 0.45453542421406123442...\n",
      " 6 -> 0.30077547227956735743...\n",
      " 7 -> 0.41352330126381042774...\n",
      " 8 -> 0.42519875360689862731...\n",
      " 9 -> 0.11379207661260604123...\n",
      "First 10\n"
     ]
    }
   ],
   "source": [
    "for n in range(10):\n",
    "    print(f'{n:2} -> {random.random():0.20f}...')\n",
    "print('First 10')"
   ]
  },
  {
   "cell_type": "markdown",
   "metadata": {},
   "source": [
    "https://courses.engr.illinois.edu/cs373/sp2009/lectures/lect_26.pdf\n",
    "\n",
    "https://www.geeksforgeeks.org/post-correspondence-problem/#:~:text=Post%20Correspondence%20Problem%20is%20a,as%20string%20made%20by%20Denominators.\n",
    "\n",
    "https://www.youtube.com/watch?v=VZNN1OGoqr8\n",
    "\n",
    "https://arxiv.org/abs/2104.05772"
   ]
  },
  {
   "cell_type": "code",
   "execution_count": null,
   "metadata": {},
   "outputs": [],
   "source": []
  }
 ],
 "metadata": {
  "kernelspec": {
   "display_name": "Python 3",
   "language": "python",
   "name": "python3"
  },
  "language_info": {
   "codemirror_mode": {
    "name": "ipython",
    "version": 3
   },
   "file_extension": ".py",
   "mimetype": "text/x-python",
   "name": "python",
   "nbconvert_exporter": "python",
   "pygments_lexer": "ipython3",
   "version": "3.8.5"
  }
 },
 "nbformat": 4,
 "nbformat_minor": 4
}
