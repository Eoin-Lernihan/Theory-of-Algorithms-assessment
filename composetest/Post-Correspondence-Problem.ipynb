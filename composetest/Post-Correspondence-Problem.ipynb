{
 "cells": [
  {
   "cell_type": "markdown",
   "metadata": {},
   "source": [
    "<p>Post Correspondence Problem Notebook (40%)\n",
    "<p>Include in your repository a Jupyter notebook called post-correspondence.ipynb that\n",
    "contains the following.\n",
    "<p>• Definition and explanation of the Post Correspondence Problem.\n",
    "<p>• Definition and explanation of the Bounded Post Correspondence Problem.\n",
    "<p>• Python function to solve the Bounded Post Correspondence Problem. The function\n",
    "should take two lists of strings and return True if they correspond, False otherwise.\n",
    "<p>• Explanation of what an undecidable problem is in computability theory, with ref\u0002erence to the Post Correspondence Problem.\n",
    "\n"
   ]
  },
  {
   "cell_type": "markdown",
   "metadata": {},
   "source": [
    "OVERVIEW\n",
    "\n",
    "The Post Correspondence Problem is a popular undecidable decision problem, introduced by Emil Post in 1946. It is a classical decision problem about equalisers of free monoid homomorphisms. Being a problem, simpler than the Halting Problem, it is often used in proofs of undecidability. \n",
    "\n",
    "We prove connections between several variations of this classical problem, but in the setting of free groups and free group homomorphisms. For expamle\n",
    "\n",
    "Variation \n",
    "PCP, Bounded PCP, Modified Post Correspondence Problem (MPCP)\n",
    "\n",
    "Lemma 1.1 Given a string hM, wi, the algorithm AlgTM2MP CP computes a set of tiles\n",
    "T that is an instance of MPCP. Furthermore, T contains a match if and only if M accepts w\n",
    "\n",
    "Theorem 1.2 The MPCP problem is undecidable.\n",
    "\n",
    "\n",
    "Among other results, and working under certain injectivity assumptions, we prove that computing the rank of the equaliser of a pair of free group homomorphisms can be applied to computing a basis of this equaliser, and also to solve the \"generalised\" Post Correspondence Problem for free groups.\n",
    "Example\n",
    "Approaches to sloving them are\n"
   ]
  },
  {
   "cell_type": "code",
   "execution_count": 46,
   "metadata": {},
   "outputs": [],
   "source": [
    "#imports\n",
    "import itertools as it\n",
    "import random"
   ]
  },
  {
   "cell_type": "code",
   "execution_count": 165,
   "metadata": {},
   "outputs": [],
   "source": [
    "list1 = ('aa', 'aba')\n",
    "list2 = ('baa', 'aa')\n",
    "interationLegnth = 3"
   ]
  },
  {
   "cell_type": "code",
   "execution_count": 242,
   "metadata": {},
   "outputs": [],
   "source": [
    "def boundPCPSolve(list1, list2, interationLegnth):\n",
    "    solutionFound = False\n",
    "    #print(len(list1))\n",
    "    #print(len(list2))\n",
    "    firstSolution = ''\n",
    "    if(len(list1) == len(list2)):\n",
    "       #print('checker')\n",
    "        counter = it.count()\n",
    "        possibleNumberList= list(next(counter) for _ in range(len(list2)))\n",
    "        #print(possibleNumberList)\n",
    "       # [p for p in itertools.product(x, repeat=interationLegnth)]\n",
    "        possiblePaths = list(it.product(possibleNumberList, repeat=interationLegnth))\n",
    "        #print(possiblePaths)\n",
    "        for p in possiblePaths:\n",
    "            list1Str = ''\n",
    "            list2Str = ''\n",
    "            solutionIndex = []\n",
    "            #print(p)\n",
    "            for index in p:\n",
    "                list1Str = list1Str + list1[index]\n",
    "                list2Str = list2Str + list2[index]\n",
    "                solutionIndex.append(index)\n",
    "                #print(' , ')\n",
    "                #print(list1Str)\n",
    "                #print(list2Str)\n",
    "                if(list1Str == list2Str):\n",
    "                    #if found after 3\n",
    "                    print('found', list1Str, 'in', solutionIndex)\n",
    "                    firstSolution = list2Str\n",
    "                    solutionFound = True\n",
    "                    break\n",
    "            if(solutionFound):\n",
    "                break\n",
    "    #Get all the possible permitions\n",
    "    #Go thourgh each permition\n",
    "    #does it solve it? if not start again\n",
    "    return solutionFound"
   ]
  },
  {
   "cell_type": "code",
   "execution_count": 243,
   "metadata": {
    "scrolled": true
   },
   "outputs": [
    {
     "name": "stdout",
     "output_type": "stream",
     "text": [
      "found bbaabbbaa in [2, 1, 2, 0]\n"
     ]
    },
    {
     "data": {
      "text/plain": [
       "True"
      ]
     },
     "execution_count": 243,
     "metadata": {},
     "output_type": "execute_result"
    }
   ],
   "source": [
    "#test3\n",
    "list1 = ('a', 'ab', 'bba')\n",
    "list2 = ('baa', 'aa', 'bb')#b, a, a), (a, a), (b, b\n",
    "interationLegnth = 6\n",
    "boundPCPSolve(list1, list2, interationLegnth)"
   ]
  },
  {
   "cell_type": "code",
   "execution_count": 220,
   "metadata": {},
   "outputs": [
    {
     "data": {
      "text/plain": [
       "[('a', 'b', 'c'),\n",
       " ('a', 'c', 'b'),\n",
       " ('b', 'a', 'c'),\n",
       " ('b', 'c', 'a'),\n",
       " ('c', 'a', 'b'),\n",
       " ('c', 'b', 'a')]"
      ]
     },
     "execution_count": 220,
     "metadata": {},
     "output_type": "execute_result"
    }
   ],
   "source": [
    "list(it.permutations(['a', 'b', 'c']))"
   ]
  },
  {
   "cell_type": "code",
   "execution_count": 212,
   "metadata": {},
   "outputs": [
    {
     "data": {
      "text/plain": [
       "[0, 1, 2, 3, 4]"
      ]
     },
     "execution_count": 212,
     "metadata": {},
     "output_type": "execute_result"
    }
   ],
   "source": [
    "counter = it.count()\n",
    "list(next(counter) for _ in range(5))"
   ]
  },
  {
   "cell_type": "code",
   "execution_count": 207,
   "metadata": {},
   "outputs": [
    {
     "name": "stdout",
     "output_type": "stream",
     "text": [
      "\n"
     ]
    },
    {
     "data": {
      "text/plain": [
       "False"
      ]
     },
     "execution_count": 207,
     "metadata": {},
     "output_type": "execute_result"
    }
   ],
   "source": [
    "boundPCPSolve(list1, list2, 6)"
   ]
  },
  {
   "cell_type": "code",
   "execution_count": 208,
   "metadata": {},
   "outputs": [
    {
     "name": "stdout",
     "output_type": "stream",
     "text": [
      "\n"
     ]
    },
    {
     "data": {
      "text/plain": [
       "False"
      ]
     },
     "execution_count": 208,
     "metadata": {},
     "output_type": "execute_result"
    }
   ],
   "source": [
    "#test2\n",
    "list1 = ('aa', 'baa')\n",
    "list2 = ('baa', 'aa')\n",
    "interationLegnth = 3\n",
    "boundPCPSolve(list1, list2, interationLegnth)"
   ]
  },
  {
   "cell_type": "code",
   "execution_count": null,
   "metadata": {},
   "outputs": [],
   "source": []
  },
  {
   "cell_type": "code",
   "execution_count": null,
   "metadata": {},
   "outputs": [],
   "source": []
  },
  {
   "cell_type": "markdown",
   "metadata": {},
   "source": [
    "https://courses.engr.illinois.edu/cs373/sp2009/lectures/lect_26.pdf\n",
    "\n",
    "https://www.geeksforgeeks.org/post-correspondence-problem/#:~:text=Post%20Correspondence%20Problem%20is%20a,as%20string%20made%20by%20Denominators.\n",
    "\n",
    "https://www.youtube.com/watch?v=VZNN1OGoqr8\n",
    "\n",
    "https://arxiv.org/abs/2104.05772"
   ]
  },
  {
   "cell_type": "code",
   "execution_count": null,
   "metadata": {},
   "outputs": [],
   "source": []
  }
 ],
 "metadata": {
  "kernelspec": {
   "display_name": "Python 3",
   "language": "python",
   "name": "python3"
  },
  "language_info": {
   "codemirror_mode": {
    "name": "ipython",
    "version": 3
   },
   "file_extension": ".py",
   "mimetype": "text/x-python",
   "name": "python",
   "nbconvert_exporter": "python",
   "pygments_lexer": "ipython3",
   "version": "3.8.5"
  }
 },
 "nbformat": 4,
 "nbformat_minor": 4
}
