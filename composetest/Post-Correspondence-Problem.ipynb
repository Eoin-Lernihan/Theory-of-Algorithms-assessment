{
 "cells": [
  {
   "cell_type": "markdown",
   "metadata": {},
   "source": [
    "<p>Post Correspondence Problem Notebook (40%)\n",
    "<p>Include in your repository a Jupyter notebook called post-correspondence.ipynb that\n",
    "contains the following.\n",
    "<p>• Definition and explanation of the Post Correspondence Problem.\n",
    "<p>• Definition and explanation of the Bounded Post Correspondence Problem.\n",
    "<p>• Python function to solve the Bounded Post Correspondence Problem. The function\n",
    "should take two lists of strings and return True if they correspond, False otherwise.\n",
    "<p>• Explanation of what an undecidable problem is in computability theory, with ref\u0002erence to the Post Correspondence Problem.\n",
    "\n"
   ]
  },
  {
   "cell_type": "markdown",
   "metadata": {},
   "source": [
    "\n",
    "The Post Correspondence Problem is a popular undecidable decision problem, introduced by Emil Post in 1946. Being a problem, simpler than the Halting Problem, it is often used in proofs of undecidability. "
   ]
  },
  {
   "cell_type": "code",
   "execution_count": 3,
   "metadata": {},
   "outputs": [
    {
     "data": {
      "text/plain": [
       "[-18, -16, -14, -12, -10, -8, -6, -4, -2, 0, 2, 4, 6, 8, 10, 12, 14, 16, 18]"
      ]
     },
     "execution_count": 3,
     "metadata": {},
     "output_type": "execute_result"
    }
   ],
   "source": [
    "def double(i):\n",
    "    return 2 * i\n",
    "eg_list_of_inputs = [-9, -8, -7, -6, -5, -4, -3, -2, -1, 0, 1, 2, 3, 4, 5, 6, 7, 8, 9]\n",
    "eg_list_of_outputs = list(map(double, eg_list_of_inputs))\n",
    "eg_list_of_outputs"
   ]
  },
  {
   "cell_type": "code",
   "execution_count": 4,
   "metadata": {},
   "outputs": [
    {
     "name": "stdout",
     "output_type": "stream",
     "text": [
      " -9 ->  -18\n",
      " -8 ->  -16\n",
      " -7 ->  -14\n",
      " -6 ->  -12\n",
      " -5 ->  -10\n",
      " -4 ->   -8\n",
      " -3 ->   -6\n",
      " -2 ->   -4\n",
      " -1 ->   -2\n",
      "  0 ->    0\n",
      "  1 ->    2\n",
      "  2 ->    4\n",
      "  3 ->    6\n",
      "  4 ->    8\n",
      "  5 ->   10\n",
      "  6 ->   12\n",
      "  7 ->   14\n",
      "  8 ->   16\n",
      "  9 ->   18\n"
     ]
    }
   ],
   "source": [
    "for i in range(-9, 10):\n",
    "    print(f'{i:3} ->  {double(i):3}')"
   ]
  },
  {
   "cell_type": "code",
   "execution_count": 5,
   "metadata": {},
   "outputs": [
    {
     "name": "stdout",
     "output_type": "stream",
     "text": [
      " 0 -> 0.68659620065844551018...\n",
      " 1 -> 0.07328642280032149348...\n",
      " 2 -> 0.86860208915199976776...\n",
      " 3 -> 0.76397471925708593243...\n",
      " 4 -> 0.43335798027848893010...\n",
      " 5 -> 0.36453966303311846620...\n",
      " 6 -> 0.59406231318226221383...\n",
      " 7 -> 0.02783694183541196576...\n",
      " 8 -> 0.40879706723685627079...\n",
      " 9 -> 0.48961728668887760652...\n",
      "and so on\n"
     ]
    }
   ],
   "source": [
    "import random\n",
    "\n",
    "for n in range(10):\n",
    "    print(f'{n:2} -> {random.random():0.20f}...')\n",
    "print('and so on')"
   ]
  },
  {
   "cell_type": "code",
   "execution_count": 6,
   "metadata": {},
   "outputs": [
    {
     "data": {
      "text/plain": [
       "False"
      ]
     },
     "execution_count": 6,
     "metadata": {},
     "output_type": "execute_result"
    }
   ],
   "source": [
    "['a', 'b'] == ['b', 'a']"
   ]
  },
  {
   "cell_type": "code",
   "execution_count": 7,
   "metadata": {},
   "outputs": [
    {
     "data": {
      "text/plain": [
       "[1, 4, 3]"
      ]
     },
     "execution_count": 7,
     "metadata": {},
     "output_type": "execute_result"
    }
   ],
   "source": [
    "# Create a list.\n",
    "l = [1,2,3]\n",
    "# Reassign an element.\n",
    "l[1] = 4\n",
    "# The element is reassigned.\n",
    "l"
   ]
  },
  {
   "cell_type": "code",
   "execution_count": 8,
   "metadata": {},
   "outputs": [
    {
     "data": {
      "text/plain": [
       "529344067295497451"
      ]
     },
     "execution_count": 8,
     "metadata": {},
     "output_type": "execute_result"
    }
   ],
   "source": [
    "# Create a tuple.\n",
    "t = (1, 2, 3)\n",
    "# Try to reassign an element.\n",
    "# t[1] = 4\n",
    "# Won't work.\n",
    "# Can't hash a list.\n",
    "# hash(l)\n",
    "# Gives an error.\n",
    "# Can hash a tuple.\n",
    "hash(t)"
   ]
  },
  {
   "cell_type": "code",
   "execution_count": 9,
   "metadata": {},
   "outputs": [
    {
     "data": {
      "text/plain": [
       "3"
      ]
     },
     "execution_count": 9,
     "metadata": {},
     "output_type": "execute_result"
    }
   ],
   "source": [
    "# You can use tuples as dictionary keys.\n",
    "D = {(1,2,3): 3, (1,2): 2}\n",
    "D[(1,2,3)]"
   ]
  },
  {
   "cell_type": "code",
   "execution_count": 11,
   "metadata": {},
   "outputs": [
    {
     "data": {
      "text/plain": [
       "1"
      ]
     },
     "execution_count": 11,
     "metadata": {},
     "output_type": "execute_result"
    }
   ],
   "source": [
    "# You can't use lists as dictionary keys.\n",
    "# = {[1,2,3]: 3, [1,2]: 2}\n",
    "# Tuples can be used for assignment - you don't have to use round brackets.\n",
    "a, b = 1, 2\n",
    "a"
   ]
  },
  {
   "cell_type": "code",
   "execution_count": 12,
   "metadata": {},
   "outputs": [
    {
     "data": {
      "text/plain": [
       "(('a',), ('a', 'b'), ('b', 'b', 'a'))"
      ]
     },
     "execution_count": 12,
     "metadata": {},
     "output_type": "execute_result"
    }
   ],
   "source": [
    "a = 'a'\n",
    "b = 'b'\n",
    "# First list.\n",
    "L1 = ((a,), (a, b), (b, b, a))\n",
    "L1"
   ]
  },
  {
   "cell_type": "code",
   "execution_count": 13,
   "metadata": {},
   "outputs": [],
   "source": [
    "# List 1.\n",
    "L1 = ((a, b), (b, b, a))\n",
    "# List 2.\n",
    "L2 = ((a, a), (b, b))\n"
   ]
  },
  {
   "cell_type": "code",
   "execution_count": 14,
   "metadata": {},
   "outputs": [],
   "source": [
    "# Write a solver for the bounded version.\n",
    "def bpcp_solver(L1, L2, K):\n",
    "    if correspond(L1, L2, K):\n",
    "        return True\n",
    "    else:\n",
    "        return False\n",
    "    \n",
    "# Correspond needs to state whether a solution S of max length K exists.\n",
    "def correspond(L1, L2, K):\n",
    "    # Your algorithm here.\n",
    "    return True if solution else False"
   ]
  },
  {
   "cell_type": "code",
   "execution_count": 15,
   "metadata": {},
   "outputs": [
    {
     "data": {
      "text/plain": [
       "[('A', 'B', 'C'),\n",
       " ('A', 'C', 'B'),\n",
       " ('B', 'A', 'C'),\n",
       " ('B', 'C', 'A'),\n",
       " ('C', 'A', 'B'),\n",
       " ('C', 'B', 'A')]"
      ]
     },
     "execution_count": 15,
     "metadata": {},
     "output_type": "execute_result"
    }
   ],
   "source": [
    "import itertools as it\n",
    "# Permutations.\n",
    "list(it.permutations('ABC'))"
   ]
  },
  {
   "cell_type": "code",
   "execution_count": 18,
   "metadata": {},
   "outputs": [
    {
     "data": {
      "text/plain": [
       "[(0, 0, 0),\n",
       " (0, 0, 1),\n",
       " (0, 1, 0),\n",
       " (0, 1, 1),\n",
       " (1, 0, 0),\n",
       " (1, 0, 1),\n",
       " (1, 1, 0),\n",
       " (1, 1, 1)]"
      ]
     },
     "execution_count": 18,
     "metadata": {},
     "output_type": "execute_result"
    }
   ],
   "source": [
    "list(it.combinations('ABC', 2))\n",
    "list(it.product('ABCD', 'ABCD'))\n",
    "list(it.product(range(len(L1)), range(len(L1)), range(len(L1))))\n"
   ]
  },
  {
   "cell_type": "code",
   "execution_count": 4,
   "metadata": {},
   "outputs": [
    {
     "name": "stdout",
     "output_type": "stream",
     "text": [
      "(0,)\n",
      "(1,)\n",
      "(2,)\n",
      "(0, 0)\n",
      "(0, 1)\n",
      "(0, 2)\n",
      "(1, 0)\n",
      "(1, 1)\n",
      "(1, 2)\n",
      "(2, 0)\n",
      "(2, 1)\n",
      "(2, 2)\n",
      "(0, 0, 0)\n",
      "(0, 0, 1)\n",
      "(0, 0, 2)\n",
      "(0, 1, 0)\n",
      "(0, 1, 1)\n",
      "(0, 1, 2)\n",
      "(0, 2, 0)\n",
      "(0, 2, 1)\n",
      "(0, 2, 2)\n",
      "(1, 0, 0)\n",
      "(1, 0, 1)\n",
      "(1, 0, 2)\n",
      "(1, 1, 0)\n",
      "(1, 1, 1)\n",
      "(1, 1, 2)\n",
      "(1, 2, 0)\n",
      "(1, 2, 1)\n",
      "(1, 2, 2)\n",
      "(2, 0, 0)\n",
      "(2, 0, 1)\n",
      "(2, 0, 2)\n",
      "(2, 1, 0)\n",
      "(2, 1, 1)\n",
      "(2, 1, 2)\n",
      "(2, 2, 0)\n",
      "(2, 2, 1)\n",
      "(2, 2, 2)\n",
      "(0, 0, 0, 0)\n",
      "(0, 0, 0, 1)\n",
      "(0, 0, 0, 2)\n",
      "(0, 0, 1, 0)\n",
      "(0, 0, 1, 1)\n",
      "(0, 0, 1, 2)\n",
      "(0, 0, 2, 0)\n",
      "(0, 0, 2, 1)\n",
      "(0, 0, 2, 2)\n",
      "(0, 1, 0, 0)\n",
      "(0, 1, 0, 1)\n",
      "(0, 1, 0, 2)\n",
      "(0, 1, 1, 0)\n",
      "(0, 1, 1, 1)\n",
      "(0, 1, 1, 2)\n",
      "(0, 1, 2, 0)\n",
      "(0, 1, 2, 1)\n",
      "(0, 1, 2, 2)\n",
      "(0, 2, 0, 0)\n",
      "(0, 2, 0, 1)\n",
      "(0, 2, 0, 2)\n",
      "(0, 2, 1, 0)\n",
      "(0, 2, 1, 1)\n",
      "(0, 2, 1, 2)\n",
      "(0, 2, 2, 0)\n",
      "(0, 2, 2, 1)\n",
      "(0, 2, 2, 2)\n",
      "(1, 0, 0, 0)\n",
      "(1, 0, 0, 1)\n",
      "(1, 0, 0, 2)\n",
      "(1, 0, 1, 0)\n",
      "(1, 0, 1, 1)\n",
      "(1, 0, 1, 2)\n",
      "(1, 0, 2, 0)\n",
      "(1, 0, 2, 1)\n",
      "(1, 0, 2, 2)\n",
      "(1, 1, 0, 0)\n",
      "(1, 1, 0, 1)\n",
      "(1, 1, 0, 2)\n",
      "(1, 1, 1, 0)\n",
      "(1, 1, 1, 1)\n",
      "(1, 1, 1, 2)\n",
      "(1, 1, 2, 0)\n",
      "(1, 1, 2, 1)\n",
      "(1, 1, 2, 2)\n",
      "(1, 2, 0, 0)\n",
      "(1, 2, 0, 1)\n",
      "(1, 2, 0, 2)\n",
      "(1, 2, 1, 0)\n",
      "(1, 2, 1, 1)\n",
      "(1, 2, 1, 2)\n",
      "(1, 2, 2, 0)\n",
      "(1, 2, 2, 1)\n",
      "(1, 2, 2, 2)\n",
      "(2, 0, 0, 0)\n",
      "(2, 0, 0, 1)\n",
      "(2, 0, 0, 2)\n",
      "(2, 0, 1, 0)\n",
      "(2, 0, 1, 1)\n",
      "(2, 0, 1, 2)\n",
      "(2, 0, 2, 0)\n",
      "(2, 0, 2, 1)\n",
      "(2, 0, 2, 2)\n",
      "(2, 1, 0, 0)\n",
      "(2, 1, 0, 1)\n",
      "(2, 1, 0, 2)\n",
      "(2, 1, 1, 0)\n",
      "(2, 1, 1, 1)\n",
      "(2, 1, 1, 2)\n",
      "(2, 1, 2, 0)\n",
      "(2, 1, 2, 1)\n",
      "(2, 1, 2, 2)\n",
      "(2, 2, 0, 0)\n",
      "(2, 2, 0, 1)\n",
      "(2, 2, 0, 2)\n",
      "(2, 2, 1, 0)\n",
      "(2, 2, 1, 1)\n",
      "(2, 2, 1, 2)\n",
      "(2, 2, 2, 0)\n",
      "(2, 2, 2, 1)\n",
      "(2, 2, 2, 2)\n"
     ]
    }
   ],
   "source": [
    "import itertools as it\n",
    "# The bound for the bounded problem.\n",
    "K = 4\n",
    "\n",
    "# The generators.\n",
    "gens = []\n",
    "\n",
    "# Loop through all possible solutions.\n",
    "for i in range(1, K + 1):\n",
    "    # Create a generator for solutions of length i, append it to gens.\n",
    "    gens.append(it.product(*([range(len(L1))] * i)))\n",
    "\n",
    "# it.chain just chains generators together.\n",
    "for solution in it.chain(*gens):\n",
    "  print(solution)\n"
   ]
  },
  {
   "cell_type": "code",
   "execution_count": 5,
   "metadata": {},
   "outputs": [
    {
     "data": {
      "text/plain": [
       "(('a', 'c'), ('a', 'b'), ('b', 'b', 'a'))"
      ]
     },
     "execution_count": 5,
     "metadata": {},
     "output_type": "execute_result"
    }
   ],
   "source": [
    "a = 'a'\n",
    "b = 'b'\n",
    "c= 'c'\n",
    "# First list.\n",
    "L1 = ((a,c), (a, b), (b, b, a))\n",
    "L1"
   ]
  },
  {
   "cell_type": "code",
   "execution_count": 6,
   "metadata": {},
   "outputs": [
    {
     "data": {
      "text/plain": [
       "(('b', 'a', 'a'), ('a', 'a'), ('b', 'b'))"
      ]
     },
     "execution_count": 6,
     "metadata": {},
     "output_type": "execute_result"
    }
   ],
   "source": [
    "# Second list.\n",
    "L2 = ((b, a, a), (a, a), (b, b))\n",
    "L2"
   ]
  },
  {
   "cell_type": "code",
   "execution_count": null,
   "metadata": {},
   "outputs": [],
   "source": []
  }
 ],
 "metadata": {
  "kernelspec": {
   "display_name": "Python 3",
   "language": "python",
   "name": "python3"
  },
  "language_info": {
   "codemirror_mode": {
    "name": "ipython",
    "version": 3
   },
   "file_extension": ".py",
   "mimetype": "text/x-python",
   "name": "python",
   "nbconvert_exporter": "python",
   "pygments_lexer": "ipython3",
   "version": "3.8.5"
  }
 },
 "nbformat": 4,
 "nbformat_minor": 4
}
