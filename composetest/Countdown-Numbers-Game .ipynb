{
 "cells": [
  {
   "cell_type": "markdown",
   "metadata": {},
   "source": [
    "<p>Countdown Numbers Game Notebook (40%)\n",
    "<p>Include in your repository a Jupyter notebook called countdown.ipynb that contains\n",
    "the following.\n",
    "<p> • Overview and explanation of the Countdown Numbers Game [3].\n",
    "<p>• Discussion of the complexity of the Countdown Numbers Game [3].\n",
    "<p>• Python function, written in a functional programming style [4] to solve a Count\u0002down Numbers Game. The function should take a list of six numbers and a target\n",
    "number and return a method to calculate the target from the numbers, if it exists.\n",
    "<p>• Explanation of the functional [4] aspects of your code.\n",
    "\n"
   ]
  },
  {
   "cell_type": "markdown",
   "metadata": {},
   "source": [
    "<h2>Countdown</h2>\n",
    "\n",
    "<h4>Overview</h4>\n",
    "\n",
    "<h4>History</h4>\n",
    "\n",
    "<h4>British game show</h4>\n",
    " It is broadcast on Channel 4 and currently presented by Anne Robinson, assisted by Rachel Riley, with resident lexicographer Susie Dent. It was the first programme to be aired on Channel 4, and 83 series have been broadcast since its debut on 2 November 1982\n",
    "<P>\n",
    "<h4>Numbers round</h4>\n",
    "  The challenge is to use the numbers available and the four standard operations (addition, subtraction, multiplication and division) to hit the target.\n",
    "\n",
    "Start by choosing any six cards. The top row always contains the numbers 25, 50, 75 and 100, and the bottom row contains the numbers 1 to 10. Then gernerate a number between 0-999 and solve\n",
    " \n",
    "<h4> Evaltion/conculsion </h4>"
   ]
  },
  {
   "cell_type": "code",
   "execution_count": 122,
   "metadata": {},
   "outputs": [],
   "source": [
    "#imports\n",
    "import random\n",
    "import itertools as it\n",
    "import operator\n",
    "import numpy as np"
   ]
  },
  {
   "cell_type": "code",
   "execution_count": 231,
   "metadata": {},
   "outputs": [],
   "source": [
    "# creates a new numbers game setup\n",
    "def numberGameGenrator(rndNum=None):\n",
    " #Generates The random number used in the game\n",
    "  if rndNum is None:\n",
    "        rndNum = random.randrange(0, 5)\n",
    "        largeRnd = random.sample([25, 50, 75, 100], rndNum)\n",
    "        smallRnd = random.sample(list(range(1, 11)) * 2, 6 - rndNum)\n",
    "        playNums = largeRnd + smallRnd \n",
    "        goal = random.randrange(101, 1000)\n",
    "\n",
    "  # Return the game set-up.\n",
    "  return playNums, goal"
   ]
  },
  {
   "cell_type": "code",
   "execution_count": 333,
   "metadata": {},
   "outputs": [],
   "source": [
    "#Finds the solvution to the given maths problem if possible to solve\n",
    "def SolveIt(nums, traget, recursiveLVL, fomulaString):\n",
    "    c = False\n",
    "    #Cheecking to see if finished with first number\n",
    "    if(len(nums) == 1):\n",
    "        if(nums[0] != traget):\n",
    "            c = False\n",
    "        else:\n",
    "            c = True\n",
    "    else:\n",
    "        #Checks to see if by mulitplying all at once\n",
    "        produck = 1\n",
    "        for x in nums:\n",
    "            produck = produck * x\n",
    "        if produck == traget:\n",
    "            c = True\n",
    "            print(f'{produck}')\n",
    "        elif produck < traget:\n",
    "            c= False\n",
    "        else:\n",
    "            #Possible to solve\n",
    "            x = nums[0]\n",
    "            y = nums[1]\n",
    "            remainingItems1 = slice(2, len(nums), 1)\n",
    "            #try divions first and solve again, if that fails try additions and so on\n",
    "            if(x % y == 0):\n",
    "                #try divions \n",
    "                newNUm = x/y\n",
    "                newStr = fomulaString + f'/ {y}'\n",
    "                oneElementArray = np.array([newNUm])\n",
    "                newArray = np.concatenate((oneElementArray, nums[remainingItems1]))\n",
    "                touple = SolveIt(newArray, traget, recursiveLVL + 1, newStr)\n",
    "                c = touple[0]\n",
    "                if(c == True):\n",
    "                    fomulaString = touple[1]\n",
    "            if(c == False):\n",
    "                #try addition\n",
    "                newNUm = x+y\n",
    "                newStr = fomulaString + f'+ {y}'\n",
    "                oneElementArray = np.array([newNUm])\n",
    "                newArray = np.concatenate((oneElementArray, nums[remainingItems1]))\n",
    "                touple = SolveIt(newArray, traget, recursiveLVL + 1, newStr)\n",
    "                c = touple[0]                \n",
    "                if(c == True):\n",
    "                    fomulaString = touple[1]\n",
    "            if(c == False):\n",
    "                #try mulitiply\n",
    "                newNUm = x*y\n",
    "                oneElementArray = np.array([newNUm])\n",
    "                newStr = fomulaString + f' * {y}'\n",
    "                newArray = np.concatenate((oneElementArray, nums[remainingItems1]))\n",
    "                touple = SolveIt(newArray, traget, recursiveLVL + 1, newStr)\n",
    "                c = touple[0]\n",
    "                if(c == True):\n",
    "                    fomulaString = touple[1]\n",
    "            if(c == False):\n",
    "                #try subtarction\n",
    "                newNUm = x-y\n",
    "                oneElementArray = np.array([newNUm])\n",
    "                newStr = fomulaString + f'- {y}'\n",
    "                newArray = np.concatenate((oneElementArray, nums[remainingItems1]))\n",
    "                touple = SolveIt(newArray, traget, recursiveLVL + 1, newStr)\n",
    "                c = touple[0]\n",
    "                if(c == True):\n",
    "                    fomulaString = touple[1]\n",
    "    return c, fomulaString\n"
   ]
  },
  {
   "cell_type": "code",
   "execution_count": 342,
   "metadata": {},
   "outputs": [
    {
     "name": "stdout",
     "output_type": "stream",
     "text": [
      "643\n",
      "75+ 10 * 6+ 100+ 25+ 8\n"
     ]
    }
   ],
   "source": [
    "#test1\n",
    "playNums, goal = numberGameGenrator()\n",
    "for p in it.permutations(playNums, 6):\n",
    "    staringNum = f\"{p[0]}\"\n",
    "    startingNumber =staringNum\n",
    "    touple= SolveIt(p, goal, 0, startingNumber)\n",
    "    if(touple[0] == True):\n",
    "        print(goal)\n",
    "        print(touple[1])\n",
    "        break\n",
    "if(c == False):\n",
    "    print('Impossible')"
   ]
  },
  {
   "cell_type": "code",
   "execution_count": 343,
   "metadata": {},
   "outputs": [
    {
     "name": "stdout",
     "output_type": "stream",
     "text": [
      "546\n",
      "75 * 8/ 10+ 1.0 * 9.0- 3.0\n"
     ]
    }
   ],
   "source": [
    "#test2\n",
    "playNums, goal = numberGameGenrator()\n",
    "for p in it.permutations(playNums, len(playNums)):\n",
    "    staringNum = f\"{p[0]}\"\n",
    "    startingNumber =staringNum\n",
    "    touple= SolveIt(p, goal, 0, startingNumber)\n",
    "    if(touple[0] == True):\n",
    "        print(goal)\n",
    "        print(touple[1])\n",
    "        break\n",
    "if(c == False):\n",
    "    print('Impossible')"
   ]
  },
  {
   "cell_type": "code",
   "execution_count": 345,
   "metadata": {},
   "outputs": [
    {
     "name": "stdout",
     "output_type": "stream",
     "text": [
      "363\n",
      "50+ 25 * 5- 8- 1- 3\n"
     ]
    }
   ],
   "source": [
    "#test3\n",
    "playNums, goal = numberGameGenrator()\n",
    "for p in it.permutations(playNums, len(playNums)):\n",
    "    staringNum = f\"{p[0]}\"\n",
    "    startingNumber =staringNum\n",
    "    touple= SolveIt(p, goal, 0, startingNumber)\n",
    "    if(touple[0] == True):\n",
    "        print(goal)\n",
    "        print(touple[1])\n",
    "        break\n",
    "if(c == False):\n",
    "    print('Impossible')"
   ]
  },
  {
   "cell_type": "code",
   "execution_count": 346,
   "metadata": {},
   "outputs": [
    {
     "name": "stdout",
     "output_type": "stream",
     "text": [
      "428\n",
      "5 * 3- 1 * 6 * 5+ 8\n"
     ]
    }
   ],
   "source": [
    "#test4\n",
    "playNums, goal = numberGameGenrator()\n",
    "for p in it.permutations(playNums, len(playNums)):\n",
    "    staringNum = f\"{p[0]}\"\n",
    "    startingNumber =staringNum\n",
    "    touple= SolveIt(p, goal, 0, startingNumber)\n",
    "    if(touple[0] == True):\n",
    "        print(goal)\n",
    "        print(touple[1])\n",
    "        break\n",
    "if(c == False):\n",
    "    print('Impossible')"
   ]
  },
  {
   "cell_type": "code",
   "execution_count": null,
   "metadata": {},
   "outputs": [],
   "source": []
  }
 ],
 "metadata": {
  "kernelspec": {
   "display_name": "Python 3",
   "language": "python",
   "name": "python3"
  },
  "language_info": {
   "codemirror_mode": {
    "name": "ipython",
    "version": 3
   },
   "file_extension": ".py",
   "mimetype": "text/x-python",
   "name": "python",
   "nbconvert_exporter": "python",
   "pygments_lexer": "ipython3",
   "version": "3.8.5"
  }
 },
 "nbformat": 4,
 "nbformat_minor": 5
}
