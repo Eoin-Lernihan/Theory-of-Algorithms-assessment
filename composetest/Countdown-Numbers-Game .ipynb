{
 "cells": [
  {
   "cell_type": "markdown",
   "metadata": {},
   "source": [
    "<p>Countdown Numbers Game Notebook (40%)\n",
    "<p>Include in your repository a Jupyter notebook called countdown.ipynb that contains\n",
    "the following.\n",
    "<p> • Overview and explanation of the Countdown Numbers Game [3].\n",
    "<p>• Discussion of the complexity of the Countdown Numbers Game [3].\n",
    "<p>• Python function, written in a functional programming style [4] to solve a Count\u0002down Numbers Game. The function should take a list of six numbers and a target\n",
    "number and return a method to calculate the target from the numbers, if it exists.\n",
    "<p>• Explanation of the functional [4] aspects of your code.\n",
    "\n"
   ]
  },
  {
   "cell_type": "markdown",
   "metadata": {},
   "source": [
    "<h2>Countdown</h2>\n",
    "\n",
    "<h4>British game show</h4>\n",
    " It is broadcast on Channel 4 and currently presented by Anne Robinson, assisted by Rachel Riley, with resident lexicographer Susie Dent. It was the first programme to be aired on Channel 4, and 83 series have been broadcast since its debut on 2 November 1982\n",
    "<P>\n",
    "<h4>Numbers round</h4>\n",
    "  The challenge is to use the numbers available and the four standard operations (addition, subtraction, multiplication and division) to hit the target.\n",
    "\n",
    "Start by choosing any six cards. The top row always contains the numbers 25, 50, 75 and 100, and the bottom row contains the numbers 1 to 10. Then gernerate a number between 0-999 and solve\n",
    "   "
   ]
  },
  {
   "cell_type": "code",
   "execution_count": 3,
   "metadata": {},
   "outputs": [
    {
     "data": {
      "text/plain": [
       "(1, 2, 3)"
      ]
     },
     "execution_count": 3,
     "metadata": {},
     "output_type": "execute_result"
    }
   ],
   "source": [
    "L = [1, 2, 3]\n",
    "iterator = iter(L)\n",
    "t = tuple(iterator)\n",
    "t"
   ]
  },
  {
   "cell_type": "code",
   "execution_count": 4,
   "metadata": {},
   "outputs": [
    {
     "data": {
      "text/plain": [
       "(1, 2, 3)"
      ]
     },
     "execution_count": 4,
     "metadata": {},
     "output_type": "execute_result"
    }
   ],
   "source": [
    "L = [1, 2, 3]\n",
    "iterator = iter(L)\n",
    "a, b, c = iterator\n",
    "a, b, c"
   ]
  },
  {
   "cell_type": "code",
   "execution_count": 7,
   "metadata": {},
   "outputs": [],
   "source": [
    "m = {'Jan': 1, 'Feb': 2, 'Mar': 3, 'Apr': 4, 'May': 5, 'Jun': 6,\n",
    "      'Jul': 7, 'Aug': 8, 'Sep': 9, 'Oct': 10, 'Nov': 11, 'Dec': 12};\n"
   ]
  },
  {
   "cell_type": "code",
   "execution_count": 8,
   "metadata": {},
   "outputs": [
    {
     "name": "stdout",
     "output_type": "stream",
     "text": [
      "Jan 1\n",
      "Feb 2\n",
      "Mar 3\n",
      "Apr 4\n",
      "May 5\n",
      "Jun 6\n",
      "Jul 7\n",
      "Aug 8\n",
      "Sep 9\n",
      "Oct 10\n",
      "Nov 11\n",
      "Dec 12\n"
     ]
    }
   ],
   "source": [
    "print(key, m[key]) "
   ]
  },
  {
   "cell_type": "code",
   "execution_count": 19,
   "metadata": {},
   "outputs": [],
   "source": [
    "import random\n",
    "import itertools as it\n",
    "import operator"
   ]
  },
  {
   "cell_type": "code",
   "execution_count": 41,
   "metadata": {},
   "outputs": [],
   "source": [
    "# All in one function.\n",
    "\n",
    "# For random nubmers and samples.\n",
    "import random\n",
    "  # creates a new numbers game setup\n",
    "def numberGameGenrator(rndNum=None):\n",
    " \n",
    "  # If rndNum in None, randomly pick value between 0 and 4 inclusive.\n",
    "  if rndNum is None:\n",
    "    # Randomly set the value.\n",
    "    rndNum = random.randrange(0, 5)\n",
    "  \n",
    "  # Select random large numbers.\n",
    "  largeRnd = random.sample([25, 50, 75, 100], rndNum)\n",
    "  # Select random small numbers.\n",
    "  smallRnd = random.sample(list(range(1, 11)) * 2, 6 - rndNum)\n",
    "  # The playing numbers.\n",
    "  playNums = largeRnd + smallRnd\n",
    "\n",
    "  # Select a goal number.\n",
    "  goal = random.randrange(101, 1000)\n",
    "\n",
    "  # Return the game.\n",
    "  return playNums, goal"
   ]
  },
  {
   "cell_type": "code",
   "execution_count": 42,
   "metadata": {},
   "outputs": [
    {
     "data": {
      "text/plain": [
       "([75, 100, 25, 50, 5, 7], 943)"
      ]
     },
     "execution_count": 42,
     "metadata": {},
     "output_type": "execute_result"
    }
   ],
   "source": [
    "playNums, goal = numberGameGenrator()\n",
    "playNums, goal"
   ]
  },
  {
   "cell_type": "code",
   "execution_count": null,
   "metadata": {},
   "outputs": [],
   "source": []
  },
  {
   "cell_type": "code",
   "execution_count": null,
   "metadata": {},
   "outputs": [],
   "source": []
  }
 ],
 "metadata": {
  "kernelspec": {
   "display_name": "Python 3",
   "language": "python",
   "name": "python3"
  },
  "language_info": {
   "codemirror_mode": {
    "name": "ipython",
    "version": 3
   },
   "file_extension": ".py",
   "mimetype": "text/x-python",
   "name": "python",
   "nbconvert_exporter": "python",
   "pygments_lexer": "ipython3",
   "version": "3.8.5"
  }
 },
 "nbformat": 4,
 "nbformat_minor": 5
}
