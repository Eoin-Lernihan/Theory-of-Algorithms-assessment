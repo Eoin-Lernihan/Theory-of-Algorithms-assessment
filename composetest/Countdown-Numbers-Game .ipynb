{
 "cells": [
  {
   "cell_type": "markdown",
   "metadata": {},
   "source": [
    "<p>Countdown Numbers Game Notebook (40%)\n",
    "<p>Include in your repository a Jupyter notebook called countdown.ipynb that contains\n",
    "the following.\n",
    "<p> • Overview and explanation of the Countdown Numbers Game [3].\n",
    "<p>• Discussion of the complexity of the Countdown Numbers Game [3].\n",
    "<p>• Python function, written in a functional programming style [4] to solve a Count\u0002down Numbers Game. The function should take a list of six numbers and a target\n",
    "number and return a method to calculate the target from the numbers, if it exists.\n",
    "<p>• Explanation of the functional [4] aspects of your code.\n",
    "\n"
   ]
  },
  {
   "cell_type": "markdown",
   "metadata": {},
   "source": [
    "<h2>Countdown</h2>\n",
    "\n",
    "<h4>Overview</h4>\n",
    "\n",
    "<h4>History</h4>\n",
    "\n",
    "<h4>British game show</h4>\n",
    " It is broadcast on Channel 4 and currently presented by Anne Robinson, assisted by Rachel Riley, with resident lexicographer Susie Dent. It was the first programme to be aired on Channel 4, and 83 series have been broadcast since its debut on 2 November 1982\n",
    "<P>\n",
    "<h4>Numbers round</h4>\n",
    "  The challenge is to use the numbers available and the four standard operations (addition, subtraction, multiplication and division) to hit the target.\n",
    "\n",
    "Start by choosing any six cards. The top row always contains the numbers 25, 50, 75 and 100, and the bottom row contains the numbers 1 to 10. Then gernerate a number between 0-999 and solve\n",
    " \n",
    "<h4> Evaltion/conculsion </h4>"
   ]
  },
  {
   "cell_type": "code",
   "execution_count": 122,
   "metadata": {},
   "outputs": [],
   "source": [
    "#imports\n",
    "import random\n",
    "import itertools as it\n",
    "import operator\n",
    "import numpy as np"
   ]
  },
  {
   "cell_type": "code",
   "execution_count": 231,
   "metadata": {},
   "outputs": [],
   "source": [
    "# creates a new numbers game setup\n",
    "def numberGameGenrator(rndNum=None):\n",
    " \n",
    "  if rndNum is None:\n",
    "        rndNum = random.randrange(0, 5)\n",
    "        largeRnd = random.sample([25, 50, 75, 100], rndNum)\n",
    "        smallRnd = random.sample(list(range(1, 11)) * 2, 6 - rndNum)\n",
    "        playNums = largeRnd + smallRnd \n",
    "        goal = random.randrange(101, 1000)\n",
    "\n",
    "  # Return the game set-up.\n",
    "  return playNums, goal"
   ]
  },
  {
   "cell_type": "code",
   "execution_count": 266,
   "metadata": {},
   "outputs": [
    {
     "data": {
      "text/plain": [
       "([75, 100, 25, 50, 1, 2], 297)"
      ]
     },
     "execution_count": 266,
     "metadata": {},
     "output_type": "execute_result"
    }
   ],
   "source": [
    "playNums, goal = numberGameGenrator()\n",
    "playNums, goal"
   ]
  },
  {
   "cell_type": "code",
   "execution_count": 242,
   "metadata": {},
   "outputs": [],
   "source": [
    "def SolveIt(nums, traget, recursiveLVL, fomulaString):\n",
    "    c = False\n",
    "    #Cheecking to see if finished\n",
    "    if(len(nums) == 1):\n",
    "        if(nums[0] != traget):\n",
    "            c = False\n",
    "        else:\n",
    "            c = True\n",
    "    else:\n",
    "        #not finished\n",
    "        #Cheeck to see if solvible\n",
    "        produck = 1\n",
    "        for x in nums:\n",
    "            produck = produck * x\n",
    "        if produck == traget:\n",
    "            c = True\n",
    "            print(f'{produck}')\n",
    "        elif produck < traget:\n",
    "            c= False\n",
    "        else:\n",
    "            #Possible to solve\n",
    "            #try divions first and solve again, if that fails try additions and so on\n",
    "            x = nums[0]\n",
    "            y = nums[1]\n",
    "            remainingItems1 = slice(2, len(nums), 1)\n",
    "            #print(remainingItems1)\n",
    "            if(x % y == 0):\n",
    "                newNUm = x/y\n",
    "                newStr = fomulaString + f'{x} / {y}'\n",
    "                oneElementArray = np.array([newNUm])\n",
    "                newArray = np.concatenate((oneElementArray, nums[remainingItems1]))\n",
    "                c = SolveIt(newArray, traget, recursiveLVL + 1, newStr)\n",
    "                if(c == True):\n",
    "                    fomulaString = fomulaString + newStr\n",
    "            if(c == False):\n",
    "                newNUm = x+y\n",
    "               # print(newNUm)\n",
    "                newStr = fomulaString + f'{x} + {y}'\n",
    "                oneElementArray = np.array([newNUm])\n",
    "                newArray = np.concatenate((oneElementArray, nums[remainingItems1]))\n",
    "                c = SolveIt(newArray, traget, recursiveLVL + 1, newStr)\n",
    "                if(c == True):\n",
    "                    fomulaString = fomulaString + newStr\n",
    "            if(c == False):\n",
    "                newNUm = x*y\n",
    "                oneElementArray = np.array([newNUm])\n",
    "                newStr = fomulaString + f'{x} * {y}'\n",
    "                newArray = np.concatenate((oneElementArray, nums[remainingItems1]))\n",
    "                c = SolveIt(newArray, traget, recursiveLVL + 1, newStr)\n",
    "                if(c == True):\n",
    "                    fomulaString = fomulaString + newStr\n",
    "            if(c == False):\n",
    "                newNUm = x-y\n",
    "                oneElementArray = np.array([newNUm])\n",
    "                newStr = fomulaString + f'{x} - {y}'\n",
    "                newArray = np.concatenate((oneElementArray, nums[remainingItems1]))\n",
    "                c = SolveIt(newArray, traget, recursiveLVL + 1, newStr)\n",
    "                if(c == True):\n",
    "                    fomulaString = fomulaString + newStr\n",
    "    if(c == True):\n",
    "        print(fomulaString)\n",
    "    return c\n"
   ]
  },
  {
   "cell_type": "code",
   "execution_count": 261,
   "metadata": {},
   "outputs": [
    {
     "name": "stdout",
     "output_type": "stream",
     "text": [
      "25 * 250 * 10500 + 3503 - 4499 - 5\n",
      "25 * 250 * 10500 + 3503 - 425 * 250 * 10500 + 3503 - 4499 - 5\n",
      "25 * 250 * 10500 + 325 * 250 * 10500 + 3503 - 4\n",
      "25 * 250 * 1025 * 250 * 10500 + 3\n",
      "25 * 225 * 250 * 10\n",
      "25 * 2\n",
      "(25, 2, 10, 3, 4, 5)\n",
      "494\n",
      "\n",
      "\n"
     ]
    }
   ],
   "source": [
    "for p in it.permutations(playNums, 6):\n",
    "    str  = ''\n",
    "    c = SolveIt(p, goal, 0, str)\n",
    "    if(c == True):\n",
    "        print(p)    \n",
    "        print(goal)\n",
    "        print(s)\n",
    "        print()\n",
    "        break\n",
    "if(c == False):\n",
    "    print('Impossible')"
   ]
  },
  {
   "cell_type": "code",
   "execution_count": 262,
   "metadata": {},
   "outputs": [
    {
     "name": "stdout",
     "output_type": "stream",
     "text": [
      "856.0\n",
      "75 - 966 * 1006600 / 50132.0 - 25.0\n",
      "75 - 966 * 1006600 / 5075 - 966 * 1006600 / 50132.0 - 25.0\n",
      "75 - 966 * 10075 - 966 * 1006600 / 50\n",
      "75 - 975 - 966 * 100\n",
      "75 - 9\n",
      "(75, 9, 100, 50, 25, 8)\n",
      "856\n",
      "\n",
      "\n"
     ]
    }
   ],
   "source": [
    "playNums, goal = numberGameGenrator()\n",
    "for p in it.permutations(playNums, 6):\n",
    "    str  = ''\n",
    "    c = SolveIt(p, goal, 0, str)\n",
    "    if(c == True):\n",
    "        print(p)    \n",
    "        print(goal)\n",
    "        print(s)\n",
    "        print()\n",
    "        break\n",
    "if(c == False):\n",
    "    print('Impossible')"
   ]
  },
  {
   "cell_type": "code",
   "execution_count": 263,
   "metadata": {},
   "outputs": [
    {
     "name": "stdout",
     "output_type": "stream",
     "text": [
      "50 * 5250 - 7243 / 1243.0 / 3.081.0 + 100.0\n",
      "50 * 5250 - 7243 / 1243.0 / 3.050 * 5250 - 7243 / 1243.0 / 3.081.0 + 100.0\n",
      "50 * 5250 - 7243 / 150 * 5250 - 7243 / 1243.0 / 3.0\n",
      "50 * 5250 - 750 * 5250 - 7243 / 1\n",
      "50 * 550 * 5250 - 7\n",
      "50 * 5\n",
      "(50, 5, 7, 1, 3, 100)\n",
      "181\n",
      "\n",
      "\n"
     ]
    }
   ],
   "source": [
    "playNums, goal = numberGameGenrator()\n",
    "for p in it.permutations(playNums, 6):\n",
    "    str  = ''\n",
    "    c = SolveIt(p, goal, 0, str)\n",
    "    if(c == True):\n",
    "        print(p)    \n",
    "        print(goal)\n",
    "        print(s)\n",
    "        print()\n",
    "        break\n",
    "if(c == False):\n",
    "    print('Impossible')"
   ]
  },
  {
   "cell_type": "code",
   "execution_count": null,
   "metadata": {},
   "outputs": [],
   "source": []
  }
 ],
 "metadata": {
  "kernelspec": {
   "display_name": "Python 3",
   "language": "python",
   "name": "python3"
  },
  "language_info": {
   "codemirror_mode": {
    "name": "ipython",
    "version": 3
   },
   "file_extension": ".py",
   "mimetype": "text/x-python",
   "name": "python",
   "nbconvert_exporter": "python",
   "pygments_lexer": "ipython3",
   "version": "3.8.5"
  }
 },
 "nbformat": 4,
 "nbformat_minor": 5
}
