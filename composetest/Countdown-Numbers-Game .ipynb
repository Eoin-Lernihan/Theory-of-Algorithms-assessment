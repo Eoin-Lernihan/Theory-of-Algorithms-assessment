{
 "cells": [
  {
   "cell_type": "markdown",
   "metadata": {},
   "source": [
    "<p>Countdown Numbers Game Notebook (40%)\n",
    "<p>Include in your repository a Jupyter notebook called countdown.ipynb that contains\n",
    "the following.\n",
    "<p> • Overview and explanation of the Countdown Numbers Game [3].\n",
    "<p>• Discussion of the complexity of the Countdown Numbers Game [3].\n",
    "<p>• Python function, written in a functional programming style [4] to solve a Count\u0002down Numbers Game. The function should take a list of six numbers and a target\n",
    "number and return a method to calculate the target from the numbers, if it exists.\n",
    "<p>• Explanation of the functional [4] aspects of your code.\n",
    "\n"
   ]
  },
  {
   "cell_type": "markdown",
   "metadata": {},
   "source": [
    "<h2>Countdown</h2>\n",
    "\n",
    "<h4>British game show</h4>\n",
    " It is broadcast on Channel 4 and currently presented by Anne Robinson, assisted by Rachel Riley, with resident lexicographer Susie Dent. It was the first programme to be aired on Channel 4, and 83 series have been broadcast since its debut on 2 November 1982\n",
    "<P>\n",
    "<h4>Numbers round</h4>\n",
    "  The challenge is to use the numbers available and the four standard operations (addition, subtraction, multiplication and division) to hit the target.\n",
    "\n",
    "Start by choosing any six cards. The top row always contains the numbers 25, 50, 75 and 100, and the bottom row contains the numbers 1 to 10. Then gernerate a number between 0-999 and solve\n",
    "   "
   ]
  },
  {
   "cell_type": "code",
   "execution_count": 1,
   "metadata": {},
   "outputs": [],
   "source": [
    "#imports\n",
    "import random\n",
    "import itertools as it\n",
    "import operator"
   ]
  },
  {
   "cell_type": "code",
   "execution_count": 2,
   "metadata": {},
   "outputs": [
    {
     "data": {
      "text/plain": [
       "(1, 2, 3)"
      ]
     },
     "execution_count": 2,
     "metadata": {},
     "output_type": "execute_result"
    }
   ],
   "source": [
    "L = [1, 2, 3]\n",
    "iterator = iter(L)\n",
    "t = tuple(iterator)\n",
    "t"
   ]
  },
  {
   "cell_type": "code",
   "execution_count": 3,
   "metadata": {},
   "outputs": [
    {
     "data": {
      "text/plain": [
       "(1, 2, 3)"
      ]
     },
     "execution_count": 3,
     "metadata": {},
     "output_type": "execute_result"
    }
   ],
   "source": [
    "L = [1, 2, 3]\n",
    "iterator = iter(L)\n",
    "a, b, c = iterator\n",
    "a, b, c"
   ]
  },
  {
   "cell_type": "code",
   "execution_count": 4,
   "metadata": {},
   "outputs": [],
   "source": [
    "m = {'Jan': 1, 'Feb': 2, 'Mar': 3, 'Apr': 4, 'May': 5, 'Jun': 6,\n",
    "      'Jul': 7, 'Aug': 8, 'Sep': 9, 'Oct': 10, 'Nov': 11, 'Dec': 12};\n"
   ]
  },
  {
   "cell_type": "code",
   "execution_count": 5,
   "metadata": {},
   "outputs": [],
   "source": [
    "# creates a new numbers game setup\n",
    "def numberGameGenrator(rndNum=None):\n",
    " \n",
    "  if rndNum is None:\n",
    "        rndNum = random.randrange(0, 5)\n",
    "        largeRnd = random.sample([25, 50, 75, 100], rndNum)\n",
    "        smallRnd = random.sample(list(range(1, 11)) * 2, 6 - rndNum)\n",
    "        playNums = largeRnd + smallRnd \n",
    "        goal = random.randrange(101, 1000)\n",
    "\n",
    "  # Return the game.\n",
    "  return playNums, goal"
   ]
  },
  {
   "cell_type": "code",
   "execution_count": 25,
   "metadata": {},
   "outputs": [
    {
     "data": {
      "text/plain": [
       "([100, 25, 8, 3, 5, 6], 639)"
      ]
     },
     "execution_count": 25,
     "metadata": {},
     "output_type": "execute_result"
    }
   ],
   "source": [
    "playNums, goal = numberGameGenrator()\n",
    "playNums, goal"
   ]
  },
  {
   "cell_type": "code",
   "execution_count": 35,
   "metadata": {},
   "outputs": [],
   "source": [
    "mulit1 = playNums[1] * playNums[2] \n",
    "mulit2 = playNums[0] * playNums[3] \n",
    "mulit3 = playNums[5] * playNums[4]\n",
    "mulit = mulit1 + mulit2 + mulit3\n",
    "if goal > mulit:\n",
    "      goal\n",
    "else:\n",
    "    mulit"
   ]
  },
  {
   "cell_type": "code",
   "execution_count": 33,
   "metadata": {},
   "outputs": [
    {
     "name": "stdout",
     "output_type": "stream",
     "text": [
      "(100, 25)\n",
      "100 + 25 = 125\n",
      "100 * 25 = 2500\n",
      "100 - 25 = 75\n",
      "100 / 25 = 4\n",
      "\n",
      "(100, 8)\n",
      "100 + 8 = 108\n",
      "100 * 8 = 800\n",
      "100 - 8 = 92\n",
      "\n",
      "(100, 3)\n",
      "100 + 3 = 103\n",
      "100 * 3 = 300\n",
      "100 - 3 = 97\n",
      "\n",
      "(100, 5)\n",
      "100 + 5 = 105\n",
      "100 * 5 = 500\n",
      "100 - 5 = 95\n",
      "100 / 5 = 20\n",
      "\n",
      "(100, 6)\n",
      "100 + 6 = 106\n",
      "100 * 6 = 600\n",
      "100 - 6 = 94\n",
      "\n",
      "(25, 100)\n",
      "25 + 100 = 125\n",
      "25 * 100 = 2500\n",
      "\n",
      "(25, 8)\n",
      "25 + 8 = 33\n",
      "25 * 8 = 200\n",
      "25 - 8 = 17\n",
      "\n",
      "(25, 3)\n",
      "25 + 3 = 28\n",
      "25 * 3 = 75\n",
      "25 - 3 = 22\n",
      "\n",
      "(25, 5)\n",
      "25 + 5 = 30\n",
      "25 * 5 = 125\n",
      "25 - 5 = 20\n",
      "25 / 5 = 5\n",
      "\n",
      "(25, 6)\n",
      "25 + 6 = 31\n",
      "25 * 6 = 150\n",
      "25 - 6 = 19\n",
      "\n",
      "(8, 100)\n",
      "8 + 100 = 108\n",
      "8 * 100 = 800\n",
      "\n",
      "(8, 25)\n",
      "8 + 25 = 33\n",
      "8 * 25 = 200\n",
      "\n",
      "(8, 3)\n",
      "8 + 3 = 11\n",
      "8 * 3 = 24\n",
      "8 - 3 = 5\n",
      "\n",
      "(8, 5)\n",
      "8 + 5 = 13\n",
      "8 * 5 = 40\n",
      "8 - 5 = 3\n",
      "\n",
      "(8, 6)\n",
      "8 + 6 = 14\n",
      "8 * 6 = 48\n",
      "8 - 6 = 2\n",
      "\n",
      "(3, 100)\n",
      "3 + 100 = 103\n",
      "3 * 100 = 300\n",
      "\n",
      "(3, 25)\n",
      "3 + 25 = 28\n",
      "3 * 25 = 75\n",
      "\n",
      "(3, 8)\n",
      "3 + 8 = 11\n",
      "3 * 8 = 24\n",
      "\n",
      "(3, 5)\n",
      "3 + 5 = 8\n",
      "3 * 5 = 15\n",
      "\n",
      "(3, 6)\n",
      "3 + 6 = 9\n",
      "3 * 6 = 18\n",
      "\n",
      "(5, 100)\n",
      "5 + 100 = 105\n",
      "5 * 100 = 500\n",
      "\n",
      "(5, 25)\n",
      "5 + 25 = 30\n",
      "5 * 25 = 125\n",
      "\n",
      "(5, 8)\n",
      "5 + 8 = 13\n",
      "5 * 8 = 40\n",
      "\n",
      "(5, 3)\n",
      "5 + 3 = 8\n",
      "5 * 3 = 15\n",
      "5 - 3 = 2\n",
      "\n",
      "(5, 6)\n",
      "5 + 6 = 11\n",
      "5 * 6 = 30\n",
      "\n",
      "(6, 100)\n",
      "6 + 100 = 106\n",
      "6 * 100 = 600\n",
      "\n",
      "(6, 25)\n",
      "6 + 25 = 31\n",
      "6 * 25 = 150\n",
      "\n",
      "(6, 8)\n",
      "6 + 8 = 14\n",
      "6 * 8 = 48\n",
      "\n",
      "(6, 3)\n",
      "6 + 3 = 9\n",
      "6 * 3 = 18\n",
      "6 - 3 = 3\n",
      "6 / 3 = 2\n",
      "\n",
      "(6, 5)\n",
      "6 + 5 = 11\n",
      "6 * 5 = 30\n",
      "6 - 5 = 1\n",
      "\n"
     ]
    }
   ],
   "source": [
    "for p in it.permutations(playNums, 2):\n",
    "        print(p)\n",
    "        print(f'{p[0]} + {p[1]} = {p[0]+p[1]}')\n",
    "        print(f'{p[0]} * {p[1]} = {p[0]*p[1]}')\n",
    "        if p[0] - p[1] > 0:\n",
    "            print(f'{p[0]} - {p[1]} = {p[0]-p[1]}')\n",
    "        if p[0] % p[1] == 0:\n",
    "            print(f'{p[0]} / {p[1]} = {p[0]//p[1]}')\n",
    "        print()"
   ]
  },
  {
   "cell_type": "code",
   "execution_count": null,
   "metadata": {},
   "outputs": [],
   "source": []
  },
  {
   "cell_type": "code",
   "execution_count": null,
   "metadata": {},
   "outputs": [],
   "source": []
  },
  {
   "cell_type": "markdown",
   "metadata": {},
   "source": [
    "\n",
    "\n"
   ]
  }
 ],
 "metadata": {
  "kernelspec": {
   "display_name": "Python 3",
   "language": "python",
   "name": "python3"
  },
  "language_info": {
   "codemirror_mode": {
    "name": "ipython",
    "version": 3
   },
   "file_extension": ".py",
   "mimetype": "text/x-python",
   "name": "python",
   "nbconvert_exporter": "python",
   "pygments_lexer": "ipython3",
   "version": "3.8.5"
  }
 },
 "nbformat": 4,
 "nbformat_minor": 5
}
